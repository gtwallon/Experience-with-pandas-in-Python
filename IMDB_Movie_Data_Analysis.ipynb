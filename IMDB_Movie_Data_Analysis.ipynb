{
 "cells": [
  {
   "cell_type": "markdown",
   "metadata": {},
   "source": [
    "# HW 10\n",
    "___"
   ]
  },
  {
   "cell_type": "code",
   "execution_count": 1,
   "metadata": {},
   "outputs": [],
   "source": [
    "import numpy as np\n",
    "import pandas as pd\n",
    "import matplotlib.pyplot as plt"
   ]
  },
  {
   "cell_type": "markdown",
   "metadata": {},
   "source": [
    "### IMDB Movie Database\n",
    "From [Kaggle](https://www.kaggle.com/PromptCloudHQ/imdb-data): 500 highest rated movies on IMDB from 2006 to 2016, sorted by revenue.\n",
    "\n",
    "**Read in the file** `'imdb-movie.csv'` with `Title` as the index column. Store the dataframe in `dfmovie`. Make the following changes:\n",
    "\n",
    "* **Rename** the column 'Runtime (Minutes)' as 'Runtime_min'. \n",
    "* **Rename** the column 'Revenue (Millions)' as 'Revenue_mil'."
   ]
  },
  {
   "cell_type": "code",
   "execution_count": 2,
   "metadata": {},
   "outputs": [],
   "source": [
    "dfmovie = pd.read_csv('imdb-movie.csv', index_col = 'Title')"
   ]
  },
  {
   "cell_type": "code",
   "execution_count": 3,
   "metadata": {},
   "outputs": [
    {
     "data": {
      "text/html": [
       "<div>\n",
       "<style scoped>\n",
       "    .dataframe tbody tr th:only-of-type {\n",
       "        vertical-align: middle;\n",
       "    }\n",
       "\n",
       "    .dataframe tbody tr th {\n",
       "        vertical-align: top;\n",
       "    }\n",
       "\n",
       "    .dataframe thead th {\n",
       "        text-align: right;\n",
       "    }\n",
       "</style>\n",
       "<table border=\"1\" class=\"dataframe\">\n",
       "  <thead>\n",
       "    <tr style=\"text-align: right;\">\n",
       "      <th></th>\n",
       "      <th>Genre</th>\n",
       "      <th>Description</th>\n",
       "      <th>Director</th>\n",
       "      <th>Actors</th>\n",
       "      <th>Year</th>\n",
       "      <th>Runtime_min</th>\n",
       "      <th>Rating</th>\n",
       "      <th>Votes</th>\n",
       "      <th>Revenue_mil</th>\n",
       "      <th>Metascore</th>\n",
       "    </tr>\n",
       "    <tr>\n",
       "      <th>Title</th>\n",
       "      <th></th>\n",
       "      <th></th>\n",
       "      <th></th>\n",
       "      <th></th>\n",
       "      <th></th>\n",
       "      <th></th>\n",
       "      <th></th>\n",
       "      <th></th>\n",
       "      <th></th>\n",
       "      <th></th>\n",
       "    </tr>\n",
       "  </thead>\n",
       "  <tbody>\n",
       "    <tr>\n",
       "      <th>Star Wars: Episode VII - The Force Awakens</th>\n",
       "      <td>Action,Adventure,Fantasy</td>\n",
       "      <td>Three decades after the defeat of the Galactic...</td>\n",
       "      <td>J.J. Abrams</td>\n",
       "      <td>Daisy Ridley, John Boyega, Oscar Isaac, Domhna...</td>\n",
       "      <td>2015</td>\n",
       "      <td>136</td>\n",
       "      <td>8.1</td>\n",
       "      <td>661608</td>\n",
       "      <td>936.63</td>\n",
       "      <td>81.0</td>\n",
       "    </tr>\n",
       "    <tr>\n",
       "      <th>Avatar</th>\n",
       "      <td>Action,Adventure,Fantasy</td>\n",
       "      <td>A paraplegic marine dispatched to the moon Pan...</td>\n",
       "      <td>James Cameron</td>\n",
       "      <td>Sam Worthington, Zoe Saldana, Sigourney Weaver...</td>\n",
       "      <td>2009</td>\n",
       "      <td>162</td>\n",
       "      <td>7.8</td>\n",
       "      <td>935408</td>\n",
       "      <td>760.51</td>\n",
       "      <td>83.0</td>\n",
       "    </tr>\n",
       "    <tr>\n",
       "      <th>Jurassic World</th>\n",
       "      <td>Action,Adventure,Sci-Fi</td>\n",
       "      <td>A new theme park, built on the original site o...</td>\n",
       "      <td>Colin Trevorrow</td>\n",
       "      <td>Chris Pratt, Bryce Dallas Howard, Ty Simpkins,...</td>\n",
       "      <td>2015</td>\n",
       "      <td>124</td>\n",
       "      <td>7.0</td>\n",
       "      <td>455169</td>\n",
       "      <td>652.18</td>\n",
       "      <td>59.0</td>\n",
       "    </tr>\n",
       "    <tr>\n",
       "      <th>The Avengers</th>\n",
       "      <td>Action,Sci-Fi</td>\n",
       "      <td>Earth's mightiest heroes must come together an...</td>\n",
       "      <td>Joss Whedon</td>\n",
       "      <td>Robert Downey Jr., Chris Evans, Scarlett Johan...</td>\n",
       "      <td>2012</td>\n",
       "      <td>143</td>\n",
       "      <td>8.1</td>\n",
       "      <td>1045588</td>\n",
       "      <td>623.28</td>\n",
       "      <td>69.0</td>\n",
       "    </tr>\n",
       "    <tr>\n",
       "      <th>The Dark Knight</th>\n",
       "      <td>Action,Crime,Drama</td>\n",
       "      <td>When the menace known as the Joker wreaks havo...</td>\n",
       "      <td>Christopher Nolan</td>\n",
       "      <td>Christian Bale, Heath Ledger, Aaron Eckhart,Mi...</td>\n",
       "      <td>2008</td>\n",
       "      <td>152</td>\n",
       "      <td>9.0</td>\n",
       "      <td>1791916</td>\n",
       "      <td>533.32</td>\n",
       "      <td>82.0</td>\n",
       "    </tr>\n",
       "  </tbody>\n",
       "</table>\n",
       "</div>"
      ],
      "text/plain": [
       "                                                               Genre  \\\n",
       "Title                                                                  \n",
       "Star Wars: Episode VII - The Force Awakens  Action,Adventure,Fantasy   \n",
       "Avatar                                      Action,Adventure,Fantasy   \n",
       "Jurassic World                               Action,Adventure,Sci-Fi   \n",
       "The Avengers                                           Action,Sci-Fi   \n",
       "The Dark Knight                                   Action,Crime,Drama   \n",
       "\n",
       "                                                                                  Description  \\\n",
       "Title                                                                                           \n",
       "Star Wars: Episode VII - The Force Awakens  Three decades after the defeat of the Galactic...   \n",
       "Avatar                                      A paraplegic marine dispatched to the moon Pan...   \n",
       "Jurassic World                              A new theme park, built on the original site o...   \n",
       "The Avengers                                Earth's mightiest heroes must come together an...   \n",
       "The Dark Knight                             When the menace known as the Joker wreaks havo...   \n",
       "\n",
       "                                                     Director  \\\n",
       "Title                                                           \n",
       "Star Wars: Episode VII - The Force Awakens        J.J. Abrams   \n",
       "Avatar                                          James Cameron   \n",
       "Jurassic World                                Colin Trevorrow   \n",
       "The Avengers                                      Joss Whedon   \n",
       "The Dark Knight                             Christopher Nolan   \n",
       "\n",
       "                                                                                       Actors  \\\n",
       "Title                                                                                           \n",
       "Star Wars: Episode VII - The Force Awakens  Daisy Ridley, John Boyega, Oscar Isaac, Domhna...   \n",
       "Avatar                                      Sam Worthington, Zoe Saldana, Sigourney Weaver...   \n",
       "Jurassic World                              Chris Pratt, Bryce Dallas Howard, Ty Simpkins,...   \n",
       "The Avengers                                Robert Downey Jr., Chris Evans, Scarlett Johan...   \n",
       "The Dark Knight                             Christian Bale, Heath Ledger, Aaron Eckhart,Mi...   \n",
       "\n",
       "                                            Year  Runtime_min  Rating  \\\n",
       "Title                                                                   \n",
       "Star Wars: Episode VII - The Force Awakens  2015          136     8.1   \n",
       "Avatar                                      2009          162     7.8   \n",
       "Jurassic World                              2015          124     7.0   \n",
       "The Avengers                                2012          143     8.1   \n",
       "The Dark Knight                             2008          152     9.0   \n",
       "\n",
       "                                              Votes  Revenue_mil  Metascore  \n",
       "Title                                                                        \n",
       "Star Wars: Episode VII - The Force Awakens   661608       936.63       81.0  \n",
       "Avatar                                       935408       760.51       83.0  \n",
       "Jurassic World                               455169       652.18       59.0  \n",
       "The Avengers                                1045588       623.28       69.0  \n",
       "The Dark Knight                             1791916       533.32       82.0  "
      ]
     },
     "execution_count": 3,
     "metadata": {},
     "output_type": "execute_result"
    }
   ],
   "source": [
    "dfmovie.rename(columns={'Runtime (Minutes)': 'Runtime_min', 'Revenue (Millions)': 'Revenue_mil'}, inplace=True)\n",
    "dfmovie.head()"
   ]
  },
  {
   "cell_type": "code",
   "execution_count": 4,
   "metadata": {},
   "outputs": [
    {
     "data": {
      "text/plain": [
       "Genre           object\n",
       "Description     object\n",
       "Director        object\n",
       "Actors          object\n",
       "Year             int64\n",
       "Runtime_min      int64\n",
       "Rating         float64\n",
       "Votes            int64\n",
       "Revenue_mil    float64\n",
       "Metascore      float64\n",
       "dtype: object"
      ]
     },
     "execution_count": 4,
     "metadata": {},
     "output_type": "execute_result"
    }
   ],
   "source": [
    "dfmovie.dtypes"
   ]
  },
  {
   "cell_type": "markdown",
   "metadata": {},
   "source": [
    "### Movie Descriptions\n",
    "Write a function **`movie_keyword(word, dfmovie)`** that returns a list of the movies with `Description`s that contain a given word, in alphabetical order. If there are no matches, the function should return an empty list. (*Hint:* Use `.str.contains()`.)\n",
    "\n",
    "Example:  \n",
    "`movie_keyword('math', dfmovie)` returns \n",
    "```\n",
    "['Frantz',\n",
    " 'Hidden Figures',\n",
    " 'Patriots Day',\n",
    " 'The Accountant',\n",
    " 'The Imitation Game',\n",
    " 'The Man Who Knew Infinity',\n",
    " 'The imposible']\n",
    "```"
   ]
  },
  {
   "cell_type": "code",
   "execution_count": 5,
   "metadata": {},
   "outputs": [],
   "source": [
    "def movie_keyword(word, dfmovie):\n",
    "    return dfmovie[dfmovie.Description.str.contains('math')].index.sort_values().tolist()"
   ]
  },
  {
   "cell_type": "code",
   "execution_count": 6,
   "metadata": {},
   "outputs": [
    {
     "data": {
      "text/plain": [
       "['Frantz',\n",
       " 'Hidden Figures',\n",
       " 'Patriots Day',\n",
       " 'The Accountant',\n",
       " 'The Imitation Game',\n",
       " 'The Man Who Knew Infinity',\n",
       " 'The imposible']"
      ]
     },
     "execution_count": 6,
     "metadata": {},
     "output_type": "execute_result"
    }
   ],
   "source": [
    "movie_keyword('math', dfmovie)"
   ]
  },
  {
   "cell_type": "markdown",
   "metadata": {},
   "source": [
    "### Actors and Actresses\n",
    "Write a function **`actor_movies(name, dfmovie)`** that returns a list of the movies that an actor or actress has appeared in. The list should be in alphabetical order.\n",
    "\n",
    "Example:  \n",
    "`actor_movies('Amy Adams', dfmovie[dfmovie.Year == 2013])` returns\n",
    "```\n",
    "['American Hustle', 'Her', 'Man of Steel']\n",
    "```"
   ]
  },
  {
   "cell_type": "code",
   "execution_count": 7,
   "metadata": {},
   "outputs": [],
   "source": [
    "def actor_movies(name, dfmovie):\n",
    "    return sorted(dfmovie[dfmovie.Actors.str.contains('Amy Adams')].index.tolist())"
   ]
  },
  {
   "cell_type": "code",
   "execution_count": 8,
   "metadata": {},
   "outputs": [
    {
     "data": {
      "text/plain": [
       "['American Hustle', 'Her', 'Man of Steel']"
      ]
     },
     "execution_count": 8,
     "metadata": {},
     "output_type": "execute_result"
    }
   ],
   "source": [
    "actor_movies('Amy Adams', dfmovie[dfmovie.Year == 2013])"
   ]
  },
  {
   "cell_type": "markdown",
   "metadata": {},
   "source": [
    "### Directors\n",
    "Write a function **`director_movies(name, dfmovie)`** that returns a list of the movies that a director has made. The list should be in alphabetical order.\n",
    "\n",
    "  Example:  \n",
    "`director_movies('Christopher Nolan', dfmovie)` returns\n",
    "```\n",
    "['Inception',\n",
    " 'Interstellar',\n",
    " 'The Dark Knight',\n",
    " 'The Dark Knight Rises',\n",
    " 'The Prestige']\n",
    "```"
   ]
  },
  {
   "cell_type": "code",
   "execution_count": 9,
   "metadata": {},
   "outputs": [],
   "source": [
    "def director_movies(name, dfmovie):\n",
    "    return sorted(dfmovie[dfmovie.Director == name].index.tolist())"
   ]
  },
  {
   "cell_type": "code",
   "execution_count": 10,
   "metadata": {},
   "outputs": [
    {
     "data": {
      "text/plain": [
       "['Inception',\n",
       " 'Interstellar',\n",
       " 'The Dark Knight',\n",
       " 'The Dark Knight Rises',\n",
       " 'The Prestige']"
      ]
     },
     "execution_count": 10,
     "metadata": {},
     "output_type": "execute_result"
    }
   ],
   "source": [
    "director_movies('Christopher Nolan', dfmovie)"
   ]
  },
  {
   "cell_type": "markdown",
   "metadata": {},
   "source": [
    "Write a function **`director_most_movies(dfmovie)`** that returns a list of the director(s) with the most films. If several directors have the same max number of films, return their names in alphabetical order by first name. (*Hint:* Use `.value_counts()`.)\n",
    "\n",
    "  Examples:<br>\n",
    "  `director_most_movies(dfmovie[dfmovie.Year == 2008])` returns\n",
    "```\n",
    "['Clint Eastwood']  \n",
    "```\n",
    "  <br>\n",
    "\n",
    "  `director_most_movies(dfmovie[dfmovie.Year < 2011])` returns\n",
    "```\n",
    " ['Christopher Nolan',\n",
    "   'Danny Boyle',\n",
    "   'David Fincher',\n",
    "   'David Yates',\n",
    "   'Ridley Scott']\n",
    "```"
   ]
  },
  {
   "cell_type": "code",
   "execution_count": 11,
   "metadata": {},
   "outputs": [],
   "source": [
    "def director_most_movies(dfmovie):\n",
    "    directorFreqSeries = dfmovie.Director.value_counts()\n",
    "    \n",
    "    return sorted(directorFreqSeries[directorFreqSeries == directorFreqSeries.max()].index.tolist())"
   ]
  },
  {
   "cell_type": "code",
   "execution_count": 12,
   "metadata": {},
   "outputs": [
    {
     "data": {
      "text/plain": [
       "['Clint Eastwood']"
      ]
     },
     "execution_count": 12,
     "metadata": {},
     "output_type": "execute_result"
    }
   ],
   "source": [
    "director_most_movies(dfmovie[dfmovie.Year == 2008])"
   ]
  },
  {
   "cell_type": "code",
   "execution_count": 13,
   "metadata": {},
   "outputs": [
    {
     "data": {
      "text/plain": [
       "['Christopher Nolan',\n",
       " 'Danny Boyle',\n",
       " 'David Fincher',\n",
       " 'David Yates',\n",
       " 'Ridley Scott']"
      ]
     },
     "execution_count": 13,
     "metadata": {},
     "output_type": "execute_result"
    }
   ],
   "source": [
    "director_most_movies(dfmovie[dfmovie.Year < 2011])"
   ]
  },
  {
   "cell_type": "markdown",
   "metadata": {},
   "source": [
    "Write a function **`director_most_revenue(dfmovie)`** that determines the  name of the director with the highest total revenue. Assume that there is a single director.\n",
    "\n",
    "Example:<br>\n",
    "`director_most_revenue(dfmovie[dfmovie.Year == 2012])`<br>\n",
    "returns `'Joss Whedon'`."
   ]
  },
  {
   "cell_type": "code",
   "execution_count": 14,
   "metadata": {},
   "outputs": [],
   "source": [
    "def director_total_revenue(dfmovie, director):\n",
    "    return sum(dfmovie['Revenue_mil'][dfmovie.Director == director])"
   ]
  },
  {
   "cell_type": "code",
   "execution_count": 15,
   "metadata": {},
   "outputs": [],
   "source": [
    "# need to take add the revenues of every movie the director made\n",
    "def director_most_revenue(dfmovie):    \n",
    "    '''Want to get a series of every director and the sum of the revenues from all the movies they made'''\n",
    "    revenues = []  \n",
    "    for d in dfmovie.Director.unique():\n",
    "        revenues.append(director_total_revenue(dfmovie, d))  # populate a list of every directors total revenues\n",
    "    \n",
    "    revSeries = pd.Series(revenues, index = dfmovie.Director.unique()).sort_values(ascending = False)  # sort a series\n",
    "    return revSeries.index[0] "
   ]
  },
  {
   "cell_type": "code",
   "execution_count": 16,
   "metadata": {},
   "outputs": [
    {
     "data": {
      "text/plain": [
       "'Joss Whedon'"
      ]
     },
     "execution_count": 16,
     "metadata": {},
     "output_type": "execute_result"
    }
   ],
   "source": [
    "director_most_revenue(dfmovie[dfmovie.Year == 2012])"
   ]
  },
  {
   "cell_type": "markdown",
   "metadata": {},
   "source": [
    "**Create a bar chart** showing the top 10 revenue-generating directors from 2006 to 2012 with the director names on the horizontal axis and the total revenue on the vertical axis.\n",
    "\n",
    "  <img src=\"http://www.coloradomath.org/python/movie-dirs-rev.jpg\" width=\"420\" height=\"396\" />"
   ]
  },
  {
   "cell_type": "code",
   "execution_count": 17,
   "metadata": {},
   "outputs": [
    {
     "data": {
      "image/png": "[encoded data removed]",
      "text/plain": [
       "<Figure size 432x288 with 1 Axes>"
      ]
     },
     "metadata": {
      "needs_background": "light"
     },
     "output_type": "display_data"
    }
   ],
   "source": [
    "newdf = dfmovie[dfmovie.Year.between(2006,2012)]\n",
    "\n",
    "revenues = []  \n",
    "for d in newdf.Director.unique():\n",
    "    revenues.append(director_total_revenue(newdf, d))  # populate a list of every directors total revenues\n",
    "    \n",
    "revSeries = pd.Series(revenues, index = newdf.Director.unique()).sort_values(ascending = False)\n",
    "revSeries.head(10).plot(kind = 'bar')\n",
    "plt.title('Top 10 Revenue-Producing Directors')\n",
    "plt.xlabel('Director')\n",
    "plt.show()"
   ]
  },
  {
   "cell_type": "code",
   "execution_count": 18,
   "metadata": {},
   "outputs": [
    {
     "data": {
      "text/html": [
       "<div>\n",
       "<style scoped>\n",
       "    .dataframe tbody tr th:only-of-type {\n",
       "        vertical-align: middle;\n",
       "    }\n",
       "\n",
       "    .dataframe tbody tr th {\n",
       "        vertical-align: top;\n",
       "    }\n",
       "\n",
       "    .dataframe thead th {\n",
       "        text-align: right;\n",
       "    }\n",
       "</style>\n",
       "<table border=\"1\" class=\"dataframe\">\n",
       "  <thead>\n",
       "    <tr style=\"text-align: right;\">\n",
       "      <th></th>\n",
       "      <th>Genre</th>\n",
       "      <th>Description</th>\n",
       "      <th>Director</th>\n",
       "      <th>Actors</th>\n",
       "      <th>Year</th>\n",
       "      <th>Runtime_min</th>\n",
       "      <th>Rating</th>\n",
       "      <th>Votes</th>\n",
       "      <th>Revenue_mil</th>\n",
       "      <th>Metascore</th>\n",
       "    </tr>\n",
       "    <tr>\n",
       "      <th>Title</th>\n",
       "      <th></th>\n",
       "      <th></th>\n",
       "      <th></th>\n",
       "      <th></th>\n",
       "      <th></th>\n",
       "      <th></th>\n",
       "      <th></th>\n",
       "      <th></th>\n",
       "      <th></th>\n",
       "      <th></th>\n",
       "    </tr>\n",
       "  </thead>\n",
       "  <tbody>\n",
       "    <tr>\n",
       "      <th>Star Wars: Episode VII - The Force Awakens</th>\n",
       "      <td>Action,Adventure,Fantasy</td>\n",
       "      <td>Three decades after the defeat of the Galactic...</td>\n",
       "      <td>J.J. Abrams</td>\n",
       "      <td>Daisy Ridley, John Boyega, Oscar Isaac, Domhna...</td>\n",
       "      <td>2015</td>\n",
       "      <td>136</td>\n",
       "      <td>8.1</td>\n",
       "      <td>661608</td>\n",
       "      <td>936.63</td>\n",
       "      <td>81.0</td>\n",
       "    </tr>\n",
       "    <tr>\n",
       "      <th>Avatar</th>\n",
       "      <td>Action,Adventure,Fantasy</td>\n",
       "      <td>A paraplegic marine dispatched to the moon Pan...</td>\n",
       "      <td>James Cameron</td>\n",
       "      <td>Sam Worthington, Zoe Saldana, Sigourney Weaver...</td>\n",
       "      <td>2009</td>\n",
       "      <td>162</td>\n",
       "      <td>7.8</td>\n",
       "      <td>935408</td>\n",
       "      <td>760.51</td>\n",
       "      <td>83.0</td>\n",
       "    </tr>\n",
       "    <tr>\n",
       "      <th>Jurassic World</th>\n",
       "      <td>Action,Adventure,Sci-Fi</td>\n",
       "      <td>A new theme park, built on the original site o...</td>\n",
       "      <td>Colin Trevorrow</td>\n",
       "      <td>Chris Pratt, Bryce Dallas Howard, Ty Simpkins,...</td>\n",
       "      <td>2015</td>\n",
       "      <td>124</td>\n",
       "      <td>7.0</td>\n",
       "      <td>455169</td>\n",
       "      <td>652.18</td>\n",
       "      <td>59.0</td>\n",
       "    </tr>\n",
       "    <tr>\n",
       "      <th>The Avengers</th>\n",
       "      <td>Action,Sci-Fi</td>\n",
       "      <td>Earth's mightiest heroes must come together an...</td>\n",
       "      <td>Joss Whedon</td>\n",
       "      <td>Robert Downey Jr., Chris Evans, Scarlett Johan...</td>\n",
       "      <td>2012</td>\n",
       "      <td>143</td>\n",
       "      <td>8.1</td>\n",
       "      <td>1045588</td>\n",
       "      <td>623.28</td>\n",
       "      <td>69.0</td>\n",
       "    </tr>\n",
       "    <tr>\n",
       "      <th>The Dark Knight</th>\n",
       "      <td>Action,Crime,Drama</td>\n",
       "      <td>When the menace known as the Joker wreaks havo...</td>\n",
       "      <td>Christopher Nolan</td>\n",
       "      <td>Christian Bale, Heath Ledger, Aaron Eckhart,Mi...</td>\n",
       "      <td>2008</td>\n",
       "      <td>152</td>\n",
       "      <td>9.0</td>\n",
       "      <td>1791916</td>\n",
       "      <td>533.32</td>\n",
       "      <td>82.0</td>\n",
       "    </tr>\n",
       "  </tbody>\n",
       "</table>\n",
       "</div>"
      ],
      "text/plain": [
       "                                                               Genre  \\\n",
       "Title                                                                  \n",
       "Star Wars: Episode VII - The Force Awakens  Action,Adventure,Fantasy   \n",
       "Avatar                                      Action,Adventure,Fantasy   \n",
       "Jurassic World                               Action,Adventure,Sci-Fi   \n",
       "The Avengers                                           Action,Sci-Fi   \n",
       "The Dark Knight                                   Action,Crime,Drama   \n",
       "\n",
       "                                                                                  Description  \\\n",
       "Title                                                                                           \n",
       "Star Wars: Episode VII - The Force Awakens  Three decades after the defeat of the Galactic...   \n",
       "Avatar                                      A paraplegic marine dispatched to the moon Pan...   \n",
       "Jurassic World                              A new theme park, built on the original site o...   \n",
       "The Avengers                                Earth's mightiest heroes must come together an...   \n",
       "The Dark Knight                             When the menace known as the Joker wreaks havo...   \n",
       "\n",
       "                                                     Director  \\\n",
       "Title                                                           \n",
       "Star Wars: Episode VII - The Force Awakens        J.J. Abrams   \n",
       "Avatar                                          James Cameron   \n",
       "Jurassic World                                Colin Trevorrow   \n",
       "The Avengers                                      Joss Whedon   \n",
       "The Dark Knight                             Christopher Nolan   \n",
       "\n",
       "                                                                                       Actors  \\\n",
       "Title                                                                                           \n",
       "Star Wars: Episode VII - The Force Awakens  Daisy Ridley, John Boyega, Oscar Isaac, Domhna...   \n",
       "Avatar                                      Sam Worthington, Zoe Saldana, Sigourney Weaver...   \n",
       "Jurassic World                              Chris Pratt, Bryce Dallas Howard, Ty Simpkins,...   \n",
       "The Avengers                                Robert Downey Jr., Chris Evans, Scarlett Johan...   \n",
       "The Dark Knight                             Christian Bale, Heath Ledger, Aaron Eckhart,Mi...   \n",
       "\n",
       "                                            Year  Runtime_min  Rating  \\\n",
       "Title                                                                   \n",
       "Star Wars: Episode VII - The Force Awakens  2015          136     8.1   \n",
       "Avatar                                      2009          162     7.8   \n",
       "Jurassic World                              2015          124     7.0   \n",
       "The Avengers                                2012          143     8.1   \n",
       "The Dark Knight                             2008          152     9.0   \n",
       "\n",
       "                                              Votes  Revenue_mil  Metascore  \n",
       "Title                                                                        \n",
       "Star Wars: Episode VII - The Force Awakens   661608       936.63       81.0  \n",
       "Avatar                                       935408       760.51       83.0  \n",
       "Jurassic World                               455169       652.18       59.0  \n",
       "The Avengers                                1045588       623.28       69.0  \n",
       "The Dark Knight                             1791916       533.32       82.0  "
      ]
     },
     "execution_count": 18,
     "metadata": {},
     "output_type": "execute_result"
    }
   ],
   "source": [
    "dfmovie.head()"
   ]
  },
  {
   "cell_type": "markdown",
   "metadata": {},
   "source": [
    "### Genres\n",
    "Each entry in the `'Genre'` column corresponds to a comma-separated list of genres. \n",
    "\n",
    "Write a function **`genres_all(dfmovie)`** that returns an alphabetical list of the possible genres in `dfmovie`. Only include the names that appear between the commas. For example, `'Action, Sci-Fi'` should be split into two genres: `'Action'` and `'Sci-Fi'`.\n",
    "\n",
    "Example:<br>\n",
    "`genres_all(dfmovie.head())` returns<br>\n",
    "`['Action', 'Adventure', 'Crime', 'Drama', 'Fantasy', 'Sci-Fi']`."
   ]
  },
  {
   "cell_type": "code",
   "execution_count": 19,
   "metadata": {},
   "outputs": [],
   "source": [
    "def genres_all(dfmovie):\n",
    "    string = ''\n",
    "    for g in dfmovie.Genre.unique():\n",
    "        string += g + ','\n",
    "\n",
    "    genreSet = set()\n",
    "    for g in string.split(','):\n",
    "        if g != '':\n",
    "            genreSet.add(g)\n",
    "\n",
    "    return sorted(list(genreSet))"
   ]
  },
  {
   "cell_type": "code",
   "execution_count": 20,
   "metadata": {},
   "outputs": [
    {
     "data": {
      "text/plain": [
       "['Action', 'Adventure', 'Crime', 'Drama', 'Fantasy', 'Sci-Fi']"
      ]
     },
     "execution_count": 20,
     "metadata": {},
     "output_type": "execute_result"
    }
   ],
   "source": [
    "lst = genres_all(dfmovie.head())\n",
    "lst"
   ]
  },
  {
   "cell_type": "markdown",
   "metadata": {},
   "source": [
    "Write a function **`genres_summary(dfmovie)`** that returns a dataframe with index labels corresponding to the genres in `dfmovie`, and columns corresponding to the genre `Counts`, average `Runtime_min`, average `Rating`, and average `Revenue_mil`. It should call `genres_all()`.\n",
    "\n",
    "  Example:<br>\n",
    "  `genres_summary(dfmovie.head())` returns the dataframe\n",
    "  \n",
    "|              | Counts | Runtime_min | Rating   | Revenue_mil | \n",
    "| :--          | --:    | --:         | --:      | --:         | \n",
    "| **Action**   | 5      | 143.400000  | 8.000000 | 701.184000  | \n",
    "| **Adventure**| 3      | 140.666667  | 7.633333 | 783.106667  | \n",
    "| **Crime**    | 1      | 152.000000  | 9.000000 | 533.320000  | \n",
    "| **Drama**    | 1      | 152.000000  | 9.000000 | 533.320000  | \n",
    "| **Fantasy**  | 2      | 149.000000  | 7.950000 | 848.570000  | \n",
    "| **Sci-Fi**   | 2      | 133.500000  | 7.550000 | 637.730000  |  \n"
   ]
  },
  {
   "cell_type": "code",
   "execution_count": 149,
   "metadata": {},
   "outputs": [],
   "source": [
    "def genres_summary(dfmovie):\n",
    "    Genres = genres_all(dfmovie)\n",
    "    Counts = []\n",
    "    Runtime_min = []\n",
    "    Rating = []\n",
    "    Revenue_mil = []\n",
    "    for g in Genres:\n",
    "        # populate lists with the counts, rating avg, etc, for the respective genre\n",
    "        newdf = dfmovie[dfmovie.Genre.str.contains(g)]\n",
    "        Counts.append(newdf.Genre.count())\n",
    "        Runtime_min.append(newdf.Runtime_min.mean())\n",
    "        Rating.append(newdf.Rating.mean())\n",
    "        Revenue_mil.append(newdf.Revenue_mil.mean())\n",
    "    genreData = list(zip(Counts, Runtime_min, Rating, Revenue_mil))\n",
    "    genreSummary = pd.DataFrame(genreData, columns = ['Counts', 'Runtime_min', 'Rating', 'Revenue_mil'], index = Genres)\n",
    "    return genreSummary"
   ]
  },
  {
   "cell_type": "code",
   "execution_count": 150,
   "metadata": {},
   "outputs": [
    {
     "data": {
      "text/html": [
       "<div>\n",
       "<style scoped>\n",
       "    .dataframe tbody tr th:only-of-type {\n",
       "        vertical-align: middle;\n",
       "    }\n",
       "\n",
       "    .dataframe tbody tr th {\n",
       "        vertical-align: top;\n",
       "    }\n",
       "\n",
       "    .dataframe thead th {\n",
       "        text-align: right;\n",
       "    }\n",
       "</style>\n",
       "<table border=\"1\" class=\"dataframe\">\n",
       "  <thead>\n",
       "    <tr style=\"text-align: right;\">\n",
       "      <th></th>\n",
       "      <th>Counts</th>\n",
       "      <th>Runtime_min</th>\n",
       "      <th>Rating</th>\n",
       "      <th>Revenue_mil</th>\n",
       "    </tr>\n",
       "  </thead>\n",
       "  <tbody>\n",
       "    <tr>\n",
       "      <th>Action</th>\n",
       "      <td>5</td>\n",
       "      <td>143.400000</td>\n",
       "      <td>8.000000</td>\n",
       "      <td>701.184000</td>\n",
       "    </tr>\n",
       "    <tr>\n",
       "      <th>Adventure</th>\n",
       "      <td>3</td>\n",
       "      <td>140.666667</td>\n",
       "      <td>7.633333</td>\n",
       "      <td>783.106667</td>\n",
       "    </tr>\n",
       "    <tr>\n",
       "      <th>Crime</th>\n",
       "      <td>1</td>\n",
       "      <td>152.000000</td>\n",
       "      <td>9.000000</td>\n",
       "      <td>533.320000</td>\n",
       "    </tr>\n",
       "    <tr>\n",
       "      <th>Drama</th>\n",
       "      <td>1</td>\n",
       "      <td>152.000000</td>\n",
       "      <td>9.000000</td>\n",
       "      <td>533.320000</td>\n",
       "    </tr>\n",
       "    <tr>\n",
       "      <th>Fantasy</th>\n",
       "      <td>2</td>\n",
       "      <td>149.000000</td>\n",
       "      <td>7.950000</td>\n",
       "      <td>848.570000</td>\n",
       "    </tr>\n",
       "    <tr>\n",
       "      <th>Sci-Fi</th>\n",
       "      <td>2</td>\n",
       "      <td>133.500000</td>\n",
       "      <td>7.550000</td>\n",
       "      <td>637.730000</td>\n",
       "    </tr>\n",
       "  </tbody>\n",
       "</table>\n",
       "</div>"
      ],
      "text/plain": [
       "           Counts  Runtime_min    Rating  Revenue_mil\n",
       "Action          5   143.400000  8.000000   701.184000\n",
       "Adventure       3   140.666667  7.633333   783.106667\n",
       "Crime           1   152.000000  9.000000   533.320000\n",
       "Drama           1   152.000000  9.000000   533.320000\n",
       "Fantasy         2   149.000000  7.950000   848.570000\n",
       "Sci-Fi          2   133.500000  7.550000   637.730000"
      ]
     },
     "execution_count": 150,
     "metadata": {},
     "output_type": "execute_result"
    }
   ],
   "source": [
    "genres_summary(dfmovie.head())"
   ]
  },
  {
   "cell_type": "markdown",
   "metadata": {},
   "source": [
    "### Ratings and Metascores"
   ]
  },
  {
   "cell_type": "markdown",
   "metadata": {},
   "source": [
    "Sort the `Rating`s in the database in increasing order and plot them as a line graph."
   ]
  },
  {
   "cell_type": "code",
   "execution_count": 154,
   "metadata": {},
   "outputs": [
    {
     "data": {
      "image/png": "[encoded data removed]",
      "text/plain": [
       "<Figure size 432x288 with 1 Axes>"
      ]
     },
     "metadata": {
      "needs_background": "light"
     },
     "output_type": "display_data"
    }
   ],
   "source": [
    "dfmovie.Rating.sort_values().plot()\n",
    "plt.show()"
   ]
  },
  {
   "cell_type": "markdown",
   "metadata": {},
   "source": [
    "Sort the `Metascore`s in the database in increasing order and plot them as a line graph."
   ]
  },
  {
   "cell_type": "code",
   "execution_count": 155,
   "metadata": {},
   "outputs": [
    {
     "data": {
      "image/png": "[encoded data removed]",
      "text/plain": [
       "<Figure size 432x288 with 1 Axes>"
      ]
     },
     "metadata": {
      "needs_background": "light"
     },
     "output_type": "display_data"
    }
   ],
   "source": [
    "dfmovie.Metascore.sort_values().plot()\n",
    "plt.show()"
   ]
  },
  {
   "cell_type": "markdown",
   "metadata": {},
   "source": [
    "There should be a strong relationship between the `Rating` and `Metascore` columns. \n",
    "\n",
    "**Create a scatter plot** with `Rating` on the horizontal axis and `Metascore` on the vertical axis.\n",
    "\n",
    "**Add a trend line** to the plot. The `df_trend_line()` function below returns the $m$ and $b$ values for the $y=mx+b$ trend line given two  columns of numerical data in a dataframe. Call `df_trend_line(dfmovie, 'Rating', 'Metascore')`.\n",
    "\n",
    "<br>\n",
    " <img src=\"http://www.coloradomath.org/python/movie-scatter-rating.jpg\" width=\"475\" height=\"316\" />"
   ]
  },
  {
   "cell_type": "code",
   "execution_count": 159,
   "metadata": {},
   "outputs": [],
   "source": [
    "def df_trend_line(df, xcol, ycol):\n",
    "    '''\n",
    "    Return the (m, b) values for a trend line\n",
    "    y = mx + b given a dataframe and the names\n",
    "    of two columns\n",
    "    '''\n",
    "    # first remove NaNs\n",
    "    df2 = df.dropna()\n",
    "    \n",
    "    # extract column values\n",
    "    xvals = df2[xcol].values\n",
    "    yvals = df2[ycol].values\n",
    "    \n",
    "    # fit a line to the points\n",
    "    m, b = np.polyfit(xvals, yvals, deg=1)\n",
    "    \n",
    "    return m, b"
   ]
  },
  {
   "cell_type": "code",
   "execution_count": 165,
   "metadata": {},
   "outputs": [
    {
     "data": {
      "image/png": "[encoded data removed]",
      "text/plain": [
       "<Figure size 432x288 with 1 Axes>"
      ]
     },
     "metadata": {
      "needs_background": "light"
     },
     "output_type": "display_data"
    }
   ],
   "source": [
    "dfmovie.plot(x = 'Rating', y = 'Metascore', kind = 'scatter')\n",
    "m,b = df_trend_line(dfmovie, 'Rating', 'Metascore')\n",
    "xvals = dfmovie.Rating\n",
    "plt.plot(xvals, m*xvals + b, c = 'orange')\n",
    "plt.title('Rating vs. Metascore')\n",
    "plt.show()"
   ]
  }
 ],
 "metadata": {
  "kernelspec": {
   "display_name": "Python 3 (ipykernel)",
   "language": "python",
   "name": "python3"
  },
  "language_info": {
   "codemirror_mode": {
    "name": "ipython",
    "version": 3
   },
   "file_extension": ".py",
   "mimetype": "text/x-python",
   "name": "python",
   "nbconvert_exporter": "python",
   "pygments_lexer": "ipython3",
   "version": "3.9.12"
  }
 },
 "nbformat": 4,
 "nbformat_minor": 4
}
