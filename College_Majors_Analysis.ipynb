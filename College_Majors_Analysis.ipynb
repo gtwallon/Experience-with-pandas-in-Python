{
 "cells": [
  {
   "cell_type": "markdown",
   "metadata": {},
   "source": [
    "# Lab 12\n",
    "\n",
    "Topics: Pandas"
   ]
  },
  {
   "cell_type": "code",
   "execution_count": 1,
   "metadata": {},
   "outputs": [],
   "source": [
    "import numpy as np\n",
    "import pandas as pd\n",
    "import matplotlib.pyplot as plt"
   ]
  },
  {
   "cell_type": "markdown",
   "metadata": {},
   "source": [
    "### College Majors\n",
    "\n",
    "The file `'college-majors.csv'` is a [fivethirtyeight.com dataset](https://github.com/fivethirtyeight/data/tree/master/college-majors) based on the American Community Survey 2010-2012. It lists the college majors, salaries, and employment status for respondents under the age of 28. \n",
    "\n",
    "* **Major_code:** Major code\n",
    "* **Major:** Major description\n",
    "* **Major_category:** Category of major\n",
    "* **Men:** Male graduates\n",
    "* **Women:** Female graduates\n",
    "* **Sample_size:** Sample size of full-time, year-round only (for earnings)\n",
    "* **Employed:** Number employed\n",
    "* **Full_time:** Employed 35 hours or more\n",
    "* **Part_time:** Employed less than 35 hours\n",
    "* **Unemployed:** Number unemployed\n",
    "* **Median:** Median earnings of full-time, year-round workers\n",
    "* **P25th:** 25th percentile of earnings\n",
    "* **P75th:** 75th percentile of earnings\n",
    "\n",
    "___\n",
    "\n",
    "**Read in the file** `'college-majors.csv'` as a pandas dataframe `df`. Use `pd.read_csv()` with `Major` as the `index_col`. "
   ]
  },
  {
   "cell_type": "code",
   "execution_count": 6,
   "metadata": {},
   "outputs": [
    {
     "data": {
      "text/html": [
       "<div>\n",
       "<style scoped>\n",
       "    .dataframe tbody tr th:only-of-type {\n",
       "        vertical-align: middle;\n",
       "    }\n",
       "\n",
       "    .dataframe tbody tr th {\n",
       "        vertical-align: top;\n",
       "    }\n",
       "\n",
       "    .dataframe thead th {\n",
       "        text-align: right;\n",
       "    }\n",
       "</style>\n",
       "<table border=\"1\" class=\"dataframe\">\n",
       "  <thead>\n",
       "    <tr style=\"text-align: right;\">\n",
       "      <th></th>\n",
       "      <th>Major_code</th>\n",
       "      <th>Major_category</th>\n",
       "      <th>Men</th>\n",
       "      <th>Women</th>\n",
       "      <th>Sample_size</th>\n",
       "      <th>Employed</th>\n",
       "      <th>Full_time</th>\n",
       "      <th>Part_time</th>\n",
       "      <th>Unemployed</th>\n",
       "      <th>Median</th>\n",
       "      <th>P25th</th>\n",
       "      <th>P75th</th>\n",
       "      <th>College_jobs</th>\n",
       "      <th>Non_college_jobs</th>\n",
       "      <th>Low_wage_jobs</th>\n",
       "    </tr>\n",
       "    <tr>\n",
       "      <th>Major</th>\n",
       "      <th></th>\n",
       "      <th></th>\n",
       "      <th></th>\n",
       "      <th></th>\n",
       "      <th></th>\n",
       "      <th></th>\n",
       "      <th></th>\n",
       "      <th></th>\n",
       "      <th></th>\n",
       "      <th></th>\n",
       "      <th></th>\n",
       "      <th></th>\n",
       "      <th></th>\n",
       "      <th></th>\n",
       "      <th></th>\n",
       "    </tr>\n",
       "  </thead>\n",
       "  <tbody>\n",
       "    <tr>\n",
       "      <th>ACCOUNTING</th>\n",
       "      <td>6201</td>\n",
       "      <td>Business</td>\n",
       "      <td>94519.0</td>\n",
       "      <td>104114.0</td>\n",
       "      <td>2042</td>\n",
       "      <td>165527</td>\n",
       "      <td>151967</td>\n",
       "      <td>27693</td>\n",
       "      <td>12411</td>\n",
       "      <td>45000</td>\n",
       "      <td>34000</td>\n",
       "      <td>56000</td>\n",
       "      <td>11417</td>\n",
       "      <td>39323</td>\n",
       "      <td>10886</td>\n",
       "    </tr>\n",
       "    <tr>\n",
       "      <th>ACTUARIAL SCIENCE</th>\n",
       "      <td>6202</td>\n",
       "      <td>Business</td>\n",
       "      <td>2110.0</td>\n",
       "      <td>1667.0</td>\n",
       "      <td>51</td>\n",
       "      <td>2912</td>\n",
       "      <td>2924</td>\n",
       "      <td>296</td>\n",
       "      <td>308</td>\n",
       "      <td>62000</td>\n",
       "      <td>53000</td>\n",
       "      <td>72000</td>\n",
       "      <td>1768</td>\n",
       "      <td>314</td>\n",
       "      <td>259</td>\n",
       "    </tr>\n",
       "    <tr>\n",
       "      <th>ADVERTISING AND PUBLIC RELATIONS</th>\n",
       "      <td>1904</td>\n",
       "      <td>Communications &amp; Journalism</td>\n",
       "      <td>12862.0</td>\n",
       "      <td>40300.0</td>\n",
       "      <td>681</td>\n",
       "      <td>45326</td>\n",
       "      <td>38815</td>\n",
       "      <td>10948</td>\n",
       "      <td>3305</td>\n",
       "      <td>35000</td>\n",
       "      <td>27000</td>\n",
       "      <td>47000</td>\n",
       "      <td>9659</td>\n",
       "      <td>23059</td>\n",
       "      <td>7214</td>\n",
       "    </tr>\n",
       "    <tr>\n",
       "      <th>AEROSPACE ENGINEERING</th>\n",
       "      <td>2401</td>\n",
       "      <td>Engineering</td>\n",
       "      <td>12953.0</td>\n",
       "      <td>2105.0</td>\n",
       "      <td>147</td>\n",
       "      <td>11391</td>\n",
       "      <td>11106</td>\n",
       "      <td>2724</td>\n",
       "      <td>794</td>\n",
       "      <td>60000</td>\n",
       "      <td>42000</td>\n",
       "      <td>70000</td>\n",
       "      <td>8184</td>\n",
       "      <td>2425</td>\n",
       "      <td>372</td>\n",
       "    </tr>\n",
       "    <tr>\n",
       "      <th>AGRICULTURAL ECONOMICS</th>\n",
       "      <td>1102</td>\n",
       "      <td>Agriculture &amp; Natural Resources</td>\n",
       "      <td>1749.0</td>\n",
       "      <td>690.0</td>\n",
       "      <td>44</td>\n",
       "      <td>2174</td>\n",
       "      <td>1819</td>\n",
       "      <td>620</td>\n",
       "      <td>182</td>\n",
       "      <td>40000</td>\n",
       "      <td>27000</td>\n",
       "      <td>54000</td>\n",
       "      <td>535</td>\n",
       "      <td>893</td>\n",
       "      <td>94</td>\n",
       "    </tr>\n",
       "  </tbody>\n",
       "</table>\n",
       "</div>"
      ],
      "text/plain": [
       "                                  Major_code                   Major_category  \\\n",
       "Major                                                                           \n",
       "ACCOUNTING                              6201                         Business   \n",
       "ACTUARIAL SCIENCE                       6202                         Business   \n",
       "ADVERTISING AND PUBLIC RELATIONS        1904      Communications & Journalism   \n",
       "AEROSPACE ENGINEERING                   2401                      Engineering   \n",
       "AGRICULTURAL ECONOMICS                  1102  Agriculture & Natural Resources   \n",
       "\n",
       "                                      Men     Women  Sample_size  Employed  \\\n",
       "Major                                                                        \n",
       "ACCOUNTING                        94519.0  104114.0         2042    165527   \n",
       "ACTUARIAL SCIENCE                  2110.0    1667.0           51      2912   \n",
       "ADVERTISING AND PUBLIC RELATIONS  12862.0   40300.0          681     45326   \n",
       "AEROSPACE ENGINEERING             12953.0    2105.0          147     11391   \n",
       "AGRICULTURAL ECONOMICS             1749.0     690.0           44      2174   \n",
       "\n",
       "                                  Full_time  Part_time  Unemployed  Median  \\\n",
       "Major                                                                        \n",
       "ACCOUNTING                           151967      27693       12411   45000   \n",
       "ACTUARIAL SCIENCE                      2924        296         308   62000   \n",
       "ADVERTISING AND PUBLIC RELATIONS      38815      10948        3305   35000   \n",
       "AEROSPACE ENGINEERING                 11106       2724         794   60000   \n",
       "AGRICULTURAL ECONOMICS                 1819        620         182   40000   \n",
       "\n",
       "                                  P25th  P75th  College_jobs  \\\n",
       "Major                                                          \n",
       "ACCOUNTING                        34000  56000         11417   \n",
       "ACTUARIAL SCIENCE                 53000  72000          1768   \n",
       "ADVERTISING AND PUBLIC RELATIONS  27000  47000          9659   \n",
       "AEROSPACE ENGINEERING             42000  70000          8184   \n",
       "AGRICULTURAL ECONOMICS            27000  54000           535   \n",
       "\n",
       "                                  Non_college_jobs  Low_wage_jobs  \n",
       "Major                                                              \n",
       "ACCOUNTING                                   39323          10886  \n",
       "ACTUARIAL SCIENCE                              314            259  \n",
       "ADVERTISING AND PUBLIC RELATIONS             23059           7214  \n",
       "AEROSPACE ENGINEERING                         2425            372  \n",
       "AGRICULTURAL ECONOMICS                         893             94  "
      ]
     },
     "execution_count": 6,
     "metadata": {},
     "output_type": "execute_result"
    }
   ],
   "source": [
    "df = pd.read_csv('college-majors.csv', index_col = 'Major')\n",
    "df.head()"
   ]
  },
  {
   "cell_type": "markdown",
   "metadata": {},
   "source": [
    "**Add a column** called `Total` that equals the sum of the `Men` and `Women` columns."
   ]
  },
  {
   "cell_type": "code",
   "execution_count": 15,
   "metadata": {},
   "outputs": [
    {
     "data": {
      "text/html": [
       "<div>\n",
       "<style scoped>\n",
       "    .dataframe tbody tr th:only-of-type {\n",
       "        vertical-align: middle;\n",
       "    }\n",
       "\n",
       "    .dataframe tbody tr th {\n",
       "        vertical-align: top;\n",
       "    }\n",
       "\n",
       "    .dataframe thead th {\n",
       "        text-align: right;\n",
       "    }\n",
       "</style>\n",
       "<table border=\"1\" class=\"dataframe\">\n",
       "  <thead>\n",
       "    <tr style=\"text-align: right;\">\n",
       "      <th></th>\n",
       "      <th>Major_code</th>\n",
       "      <th>Major_category</th>\n",
       "      <th>Men</th>\n",
       "      <th>Women</th>\n",
       "      <th>Sample_size</th>\n",
       "      <th>Employed</th>\n",
       "      <th>Full_time</th>\n",
       "      <th>Part_time</th>\n",
       "      <th>Unemployed</th>\n",
       "      <th>Median</th>\n",
       "      <th>P25th</th>\n",
       "      <th>P75th</th>\n",
       "      <th>College_jobs</th>\n",
       "      <th>Non_college_jobs</th>\n",
       "      <th>Low_wage_jobs</th>\n",
       "      <th>Total</th>\n",
       "    </tr>\n",
       "    <tr>\n",
       "      <th>Major</th>\n",
       "      <th></th>\n",
       "      <th></th>\n",
       "      <th></th>\n",
       "      <th></th>\n",
       "      <th></th>\n",
       "      <th></th>\n",
       "      <th></th>\n",
       "      <th></th>\n",
       "      <th></th>\n",
       "      <th></th>\n",
       "      <th></th>\n",
       "      <th></th>\n",
       "      <th></th>\n",
       "      <th></th>\n",
       "      <th></th>\n",
       "      <th></th>\n",
       "    </tr>\n",
       "  </thead>\n",
       "  <tbody>\n",
       "    <tr>\n",
       "      <th>ACCOUNTING</th>\n",
       "      <td>6201</td>\n",
       "      <td>Business</td>\n",
       "      <td>94519.0</td>\n",
       "      <td>104114.0</td>\n",
       "      <td>2042</td>\n",
       "      <td>165527</td>\n",
       "      <td>151967</td>\n",
       "      <td>27693</td>\n",
       "      <td>12411</td>\n",
       "      <td>45000</td>\n",
       "      <td>34000</td>\n",
       "      <td>56000</td>\n",
       "      <td>11417</td>\n",
       "      <td>39323</td>\n",
       "      <td>10886</td>\n",
       "      <td>198633.0</td>\n",
       "    </tr>\n",
       "    <tr>\n",
       "      <th>ACTUARIAL SCIENCE</th>\n",
       "      <td>6202</td>\n",
       "      <td>Business</td>\n",
       "      <td>2110.0</td>\n",
       "      <td>1667.0</td>\n",
       "      <td>51</td>\n",
       "      <td>2912</td>\n",
       "      <td>2924</td>\n",
       "      <td>296</td>\n",
       "      <td>308</td>\n",
       "      <td>62000</td>\n",
       "      <td>53000</td>\n",
       "      <td>72000</td>\n",
       "      <td>1768</td>\n",
       "      <td>314</td>\n",
       "      <td>259</td>\n",
       "      <td>3777.0</td>\n",
       "    </tr>\n",
       "    <tr>\n",
       "      <th>ADVERTISING AND PUBLIC RELATIONS</th>\n",
       "      <td>1904</td>\n",
       "      <td>Communications &amp; Journalism</td>\n",
       "      <td>12862.0</td>\n",
       "      <td>40300.0</td>\n",
       "      <td>681</td>\n",
       "      <td>45326</td>\n",
       "      <td>38815</td>\n",
       "      <td>10948</td>\n",
       "      <td>3305</td>\n",
       "      <td>35000</td>\n",
       "      <td>27000</td>\n",
       "      <td>47000</td>\n",
       "      <td>9659</td>\n",
       "      <td>23059</td>\n",
       "      <td>7214</td>\n",
       "      <td>53162.0</td>\n",
       "    </tr>\n",
       "    <tr>\n",
       "      <th>AEROSPACE ENGINEERING</th>\n",
       "      <td>2401</td>\n",
       "      <td>Engineering</td>\n",
       "      <td>12953.0</td>\n",
       "      <td>2105.0</td>\n",
       "      <td>147</td>\n",
       "      <td>11391</td>\n",
       "      <td>11106</td>\n",
       "      <td>2724</td>\n",
       "      <td>794</td>\n",
       "      <td>60000</td>\n",
       "      <td>42000</td>\n",
       "      <td>70000</td>\n",
       "      <td>8184</td>\n",
       "      <td>2425</td>\n",
       "      <td>372</td>\n",
       "      <td>15058.0</td>\n",
       "    </tr>\n",
       "    <tr>\n",
       "      <th>AGRICULTURAL ECONOMICS</th>\n",
       "      <td>1102</td>\n",
       "      <td>Agriculture &amp; Natural Resources</td>\n",
       "      <td>1749.0</td>\n",
       "      <td>690.0</td>\n",
       "      <td>44</td>\n",
       "      <td>2174</td>\n",
       "      <td>1819</td>\n",
       "      <td>620</td>\n",
       "      <td>182</td>\n",
       "      <td>40000</td>\n",
       "      <td>27000</td>\n",
       "      <td>54000</td>\n",
       "      <td>535</td>\n",
       "      <td>893</td>\n",
       "      <td>94</td>\n",
       "      <td>2439.0</td>\n",
       "    </tr>\n",
       "  </tbody>\n",
       "</table>\n",
       "</div>"
      ],
      "text/plain": [
       "                                  Major_code                   Major_category  \\\n",
       "Major                                                                           \n",
       "ACCOUNTING                              6201                         Business   \n",
       "ACTUARIAL SCIENCE                       6202                         Business   \n",
       "ADVERTISING AND PUBLIC RELATIONS        1904      Communications & Journalism   \n",
       "AEROSPACE ENGINEERING                   2401                      Engineering   \n",
       "AGRICULTURAL ECONOMICS                  1102  Agriculture & Natural Resources   \n",
       "\n",
       "                                      Men     Women  Sample_size  Employed  \\\n",
       "Major                                                                        \n",
       "ACCOUNTING                        94519.0  104114.0         2042    165527   \n",
       "ACTUARIAL SCIENCE                  2110.0    1667.0           51      2912   \n",
       "ADVERTISING AND PUBLIC RELATIONS  12862.0   40300.0          681     45326   \n",
       "AEROSPACE ENGINEERING             12953.0    2105.0          147     11391   \n",
       "AGRICULTURAL ECONOMICS             1749.0     690.0           44      2174   \n",
       "\n",
       "                                  Full_time  Part_time  Unemployed  Median  \\\n",
       "Major                                                                        \n",
       "ACCOUNTING                           151967      27693       12411   45000   \n",
       "ACTUARIAL SCIENCE                      2924        296         308   62000   \n",
       "ADVERTISING AND PUBLIC RELATIONS      38815      10948        3305   35000   \n",
       "AEROSPACE ENGINEERING                 11106       2724         794   60000   \n",
       "AGRICULTURAL ECONOMICS                 1819        620         182   40000   \n",
       "\n",
       "                                  P25th  P75th  College_jobs  \\\n",
       "Major                                                          \n",
       "ACCOUNTING                        34000  56000         11417   \n",
       "ACTUARIAL SCIENCE                 53000  72000          1768   \n",
       "ADVERTISING AND PUBLIC RELATIONS  27000  47000          9659   \n",
       "AEROSPACE ENGINEERING             42000  70000          8184   \n",
       "AGRICULTURAL ECONOMICS            27000  54000           535   \n",
       "\n",
       "                                  Non_college_jobs  Low_wage_jobs     Total  \n",
       "Major                                                                        \n",
       "ACCOUNTING                                   39323          10886  198633.0  \n",
       "ACTUARIAL SCIENCE                              314            259    3777.0  \n",
       "ADVERTISING AND PUBLIC RELATIONS             23059           7214   53162.0  \n",
       "AEROSPACE ENGINEERING                         2425            372   15058.0  \n",
       "AGRICULTURAL ECONOMICS                         893             94    2439.0  "
      ]
     },
     "execution_count": 15,
     "metadata": {},
     "output_type": "execute_result"
    }
   ],
   "source": [
    "df['Total'] = (df.Men + df.Women)\n",
    "df.head()"
   ]
  },
  {
   "cell_type": "code",
   "execution_count": 133,
   "metadata": {
    "scrolled": false
   },
   "outputs": [
    {
     "data": {
      "text/html": [
       "<div>\n",
       "<style scoped>\n",
       "    .dataframe tbody tr th:only-of-type {\n",
       "        vertical-align: middle;\n",
       "    }\n",
       "\n",
       "    .dataframe tbody tr th {\n",
       "        vertical-align: top;\n",
       "    }\n",
       "\n",
       "    .dataframe thead th {\n",
       "        text-align: right;\n",
       "    }\n",
       "</style>\n",
       "<table border=\"1\" class=\"dataframe\">\n",
       "  <thead>\n",
       "    <tr style=\"text-align: right;\">\n",
       "      <th></th>\n",
       "      <th>Major_code</th>\n",
       "      <th>Major_category</th>\n",
       "      <th>Men</th>\n",
       "      <th>Women</th>\n",
       "      <th>Sample_size</th>\n",
       "      <th>Employed</th>\n",
       "      <th>Full_time</th>\n",
       "      <th>Part_time</th>\n",
       "      <th>Unemployed</th>\n",
       "      <th>Median</th>\n",
       "      <th>P25th</th>\n",
       "      <th>P75th</th>\n",
       "      <th>College_jobs</th>\n",
       "      <th>Non_college_jobs</th>\n",
       "      <th>Low_wage_jobs</th>\n",
       "      <th>Total</th>\n",
       "      <th>Pct_Employed</th>\n",
       "    </tr>\n",
       "    <tr>\n",
       "      <th>Major</th>\n",
       "      <th></th>\n",
       "      <th></th>\n",
       "      <th></th>\n",
       "      <th></th>\n",
       "      <th></th>\n",
       "      <th></th>\n",
       "      <th></th>\n",
       "      <th></th>\n",
       "      <th></th>\n",
       "      <th></th>\n",
       "      <th></th>\n",
       "      <th></th>\n",
       "      <th></th>\n",
       "      <th></th>\n",
       "      <th></th>\n",
       "      <th></th>\n",
       "      <th></th>\n",
       "    </tr>\n",
       "  </thead>\n",
       "  <tbody>\n",
       "    <tr>\n",
       "      <th>PSYCHOLOGY</th>\n",
       "      <td>5200</td>\n",
       "      <td>Psychology &amp; Social Work</td>\n",
       "      <td>86648.0</td>\n",
       "      <td>307087.0</td>\n",
       "      <td>2584</td>\n",
       "      <td>307933</td>\n",
       "      <td>233205</td>\n",
       "      <td>115172</td>\n",
       "      <td>28169</td>\n",
       "      <td>31500</td>\n",
       "      <td>24000</td>\n",
       "      <td>41000</td>\n",
       "      <td>125148</td>\n",
       "      <td>141860</td>\n",
       "      <td>48207</td>\n",
       "      <td>393735.0</td>\n",
       "      <td>78.208186</td>\n",
       "    </tr>\n",
       "    <tr>\n",
       "      <th>BUSINESS MANAGEMENT AND ADMINISTRATION</th>\n",
       "      <td>6203</td>\n",
       "      <td>Business</td>\n",
       "      <td>173809.0</td>\n",
       "      <td>156118.0</td>\n",
       "      <td>4212</td>\n",
       "      <td>276234</td>\n",
       "      <td>251540</td>\n",
       "      <td>50357</td>\n",
       "      <td>21502</td>\n",
       "      <td>38000</td>\n",
       "      <td>29000</td>\n",
       "      <td>50000</td>\n",
       "      <td>36720</td>\n",
       "      <td>148395</td>\n",
       "      <td>32395</td>\n",
       "      <td>329927.0</td>\n",
       "      <td>83.725794</td>\n",
       "    </tr>\n",
       "    <tr>\n",
       "      <th>BIOLOGY</th>\n",
       "      <td>3600</td>\n",
       "      <td>Biology &amp; Life Science</td>\n",
       "      <td>111762.0</td>\n",
       "      <td>168947.0</td>\n",
       "      <td>1370</td>\n",
       "      <td>182295</td>\n",
       "      <td>144512</td>\n",
       "      <td>72371</td>\n",
       "      <td>13874</td>\n",
       "      <td>33400</td>\n",
       "      <td>24000</td>\n",
       "      <td>45000</td>\n",
       "      <td>88232</td>\n",
       "      <td>81109</td>\n",
       "      <td>28339</td>\n",
       "      <td>280709.0</td>\n",
       "      <td>64.940917</td>\n",
       "    </tr>\n",
       "    <tr>\n",
       "      <th>GENERAL BUSINESS</th>\n",
       "      <td>6200</td>\n",
       "      <td>Business</td>\n",
       "      <td>132238.0</td>\n",
       "      <td>102352.0</td>\n",
       "      <td>2380</td>\n",
       "      <td>190183</td>\n",
       "      <td>171385</td>\n",
       "      <td>36241</td>\n",
       "      <td>14946</td>\n",
       "      <td>40000</td>\n",
       "      <td>30000</td>\n",
       "      <td>55000</td>\n",
       "      <td>29334</td>\n",
       "      <td>100831</td>\n",
       "      <td>27320</td>\n",
       "      <td>234590.0</td>\n",
       "      <td>81.070378</td>\n",
       "    </tr>\n",
       "    <tr>\n",
       "      <th>COMMUNICATIONS</th>\n",
       "      <td>1901</td>\n",
       "      <td>Communications &amp; Journalism</td>\n",
       "      <td>70619.0</td>\n",
       "      <td>143377.0</td>\n",
       "      <td>2394</td>\n",
       "      <td>179633</td>\n",
       "      <td>147335</td>\n",
       "      <td>49889</td>\n",
       "      <td>14602</td>\n",
       "      <td>35000</td>\n",
       "      <td>27000</td>\n",
       "      <td>45000</td>\n",
       "      <td>40763</td>\n",
       "      <td>97964</td>\n",
       "      <td>27440</td>\n",
       "      <td>213996.0</td>\n",
       "      <td>83.942223</td>\n",
       "    </tr>\n",
       "  </tbody>\n",
       "</table>\n",
       "</div>"
      ],
      "text/plain": [
       "                                        Major_code  \\\n",
       "Major                                                \n",
       "PSYCHOLOGY                                    5200   \n",
       "BUSINESS MANAGEMENT AND ADMINISTRATION        6203   \n",
       "BIOLOGY                                       3600   \n",
       "GENERAL BUSINESS                              6200   \n",
       "COMMUNICATIONS                                1901   \n",
       "\n",
       "                                                     Major_category       Men  \\\n",
       "Major                                                                           \n",
       "PSYCHOLOGY                                 Psychology & Social Work   86648.0   \n",
       "BUSINESS MANAGEMENT AND ADMINISTRATION                     Business  173809.0   \n",
       "BIOLOGY                                      Biology & Life Science  111762.0   \n",
       "GENERAL BUSINESS                                           Business  132238.0   \n",
       "COMMUNICATIONS                          Communications & Journalism   70619.0   \n",
       "\n",
       "                                           Women  Sample_size  Employed  \\\n",
       "Major                                                                     \n",
       "PSYCHOLOGY                              307087.0         2584    307933   \n",
       "BUSINESS MANAGEMENT AND ADMINISTRATION  156118.0         4212    276234   \n",
       "BIOLOGY                                 168947.0         1370    182295   \n",
       "GENERAL BUSINESS                        102352.0         2380    190183   \n",
       "COMMUNICATIONS                          143377.0         2394    179633   \n",
       "\n",
       "                                        Full_time  Part_time  Unemployed  \\\n",
       "Major                                                                      \n",
       "PSYCHOLOGY                                 233205     115172       28169   \n",
       "BUSINESS MANAGEMENT AND ADMINISTRATION     251540      50357       21502   \n",
       "BIOLOGY                                    144512      72371       13874   \n",
       "GENERAL BUSINESS                           171385      36241       14946   \n",
       "COMMUNICATIONS                             147335      49889       14602   \n",
       "\n",
       "                                        Median  P25th  P75th  College_jobs  \\\n",
       "Major                                                                        \n",
       "PSYCHOLOGY                               31500  24000  41000        125148   \n",
       "BUSINESS MANAGEMENT AND ADMINISTRATION   38000  29000  50000         36720   \n",
       "BIOLOGY                                  33400  24000  45000         88232   \n",
       "GENERAL BUSINESS                         40000  30000  55000         29334   \n",
       "COMMUNICATIONS                           35000  27000  45000         40763   \n",
       "\n",
       "                                        Non_college_jobs  Low_wage_jobs  \\\n",
       "Major                                                                     \n",
       "PSYCHOLOGY                                        141860          48207   \n",
       "BUSINESS MANAGEMENT AND ADMINISTRATION            148395          32395   \n",
       "BIOLOGY                                            81109          28339   \n",
       "GENERAL BUSINESS                                  100831          27320   \n",
       "COMMUNICATIONS                                     97964          27440   \n",
       "\n",
       "                                           Total  Pct_Employed  \n",
       "Major                                                           \n",
       "PSYCHOLOGY                              393735.0     78.208186  \n",
       "BUSINESS MANAGEMENT AND ADMINISTRATION  329927.0     83.725794  \n",
       "BIOLOGY                                 280709.0     64.940917  \n",
       "GENERAL BUSINESS                        234590.0     81.070378  \n",
       "COMMUNICATIONS                          213996.0     83.942223  "
      ]
     },
     "execution_count": 133,
     "metadata": {},
     "output_type": "execute_result"
    }
   ],
   "source": [
    "df.sort_values(by = 'Total', ascending = False).head()"
   ]
  },
  {
   "cell_type": "markdown",
   "metadata": {},
   "source": [
    "### Information about Majors"
   ]
  },
  {
   "cell_type": "markdown",
   "metadata": {},
   "source": [
    "Write a function **major_info(df, major)** that returns a series corresponding to the row for that major. \n",
    "\n",
    "Example: `major_info(df, 'APPLIED MATHEMATICS')` returns\n",
    "```\n",
    "Major_code                             3701\n",
    "Major_category      Computers & Mathematics\n",
    "Men                                  2794.0\n",
    "Women                                2145.0\n",
    "Sample_size                              45\n",
    "Employed                               3854\n",
    "Full_time                              3465\n",
    "Part_time                              1176\n",
    "Unemployed                              385\n",
    "Median                                45000\n",
    "P25th                                 34000\n",
    "P75th                                 63000\n",
    "College_jobs                           2437\n",
    "Non_college_jobs                        803\n",
    "Low_wage_jobs                           357\n",
    "Name: APPLIED MATHEMATICS, dtype: object\n",
    "```"
   ]
  },
  {
   "cell_type": "code",
   "execution_count": 21,
   "metadata": {},
   "outputs": [],
   "source": [
    "def major_info(df, major):\n",
    "    return df.loc[major]"
   ]
  },
  {
   "cell_type": "code",
   "execution_count": 22,
   "metadata": {
    "scrolled": true
   },
   "outputs": [
    {
     "data": {
      "text/plain": [
       "Major_code                             3701\n",
       "Major_category      Computers & Mathematics\n",
       "Men                                  2794.0\n",
       "Women                                2145.0\n",
       "Sample_size                              45\n",
       "Employed                               3854\n",
       "Full_time                              3465\n",
       "Part_time                              1176\n",
       "Unemployed                              385\n",
       "Median                                45000\n",
       "P25th                                 34000\n",
       "P75th                                 63000\n",
       "College_jobs                           2437\n",
       "Non_college_jobs                        803\n",
       "Low_wage_jobs                           357\n",
       "Total                                4939.0\n",
       "Name: APPLIED MATHEMATICS, dtype: object"
      ]
     },
     "execution_count": 22,
     "metadata": {},
     "output_type": "execute_result"
    }
   ],
   "source": [
    "major_info(df, 'APPLIED MATHEMATICS')"
   ]
  },
  {
   "cell_type": "markdown",
   "metadata": {},
   "source": [
    "### Number of Students in Each Major\n",
    "\n",
    "Write a function **major_count(df, major)** that returns the `Total` number of students in that major.\n",
    "\n",
    "Example:  `major_count(df, 'APPLIED MATHEMATICS')` returns `4939`."
   ]
  },
  {
   "cell_type": "code",
   "execution_count": 23,
   "metadata": {},
   "outputs": [],
   "source": [
    "def major_count(df, major):\n",
    "    return df.loc[major].Total"
   ]
  },
  {
   "cell_type": "code",
   "execution_count": 24,
   "metadata": {},
   "outputs": [
    {
     "data": {
      "text/plain": [
       "4939.0"
      ]
     },
     "execution_count": 24,
     "metadata": {},
     "output_type": "execute_result"
    }
   ],
   "source": [
    "major_count(df, 'APPLIED MATHEMATICS')"
   ]
  },
  {
   "cell_type": "markdown",
   "metadata": {},
   "source": [
    "### Popularity of Majors\n",
    "\n",
    "Write a function **`most_popular_majors(df, nmajors)`** that returns a list of the `nmajors` most popular majors, ordered from most popular to least popular, based on `Total`. If `nmajors` is omitted, the default value is `5`.\n",
    "\n",
    "Example:  \n",
    "```\n",
    "df_biz = df[df.Major_category == 'Business']\n",
    "most_popular_majors(df_biz, 2)\n",
    "``` \n",
    "returns\n",
    "```\n",
    "['BUSINESS MANAGEMENT AND ADMINISTRATION', 'GENERAL BUSINESS']\n",
    "```"
   ]
  },
  {
   "cell_type": "code",
   "execution_count": 25,
   "metadata": {},
   "outputs": [],
   "source": [
    "def most_popular_majors(df, nmajors = 5):\n",
    "    popMajList = df.sort_values(by = 'Total', ascending = False).index\n",
    "    return list(popMajList[:nmajors])"
   ]
  },
  {
   "cell_type": "code",
   "execution_count": 27,
   "metadata": {},
   "outputs": [
    {
     "data": {
      "text/plain": [
       "['BUSINESS MANAGEMENT AND ADMINISTRATION', 'GENERAL BUSINESS']"
      ]
     },
     "execution_count": 27,
     "metadata": {},
     "output_type": "execute_result"
    }
   ],
   "source": [
    "df_biz = df[df.Major_category == 'Business']\n",
    "most_popular_majors(df_biz, 2)"
   ]
  },
  {
   "cell_type": "markdown",
   "metadata": {},
   "source": [
    "Write a function **`least_popular_majors(df, nmajors)`** that returns a list of the `nmajors` least popular majors, ordered from least popular to most popular. If `nmajors` is omitted, the default value is `5`."
   ]
  },
  {
   "cell_type": "code",
   "execution_count": 29,
   "metadata": {},
   "outputs": [],
   "source": [
    "def least_popular_majors(df, nmajors = 5):\n",
    "    popMajList = df.sort_values(by = 'Total').index\n",
    "    return list(popMajList[:nmajors])"
   ]
  },
  {
   "cell_type": "code",
   "execution_count": 31,
   "metadata": {},
   "outputs": [
    {
     "data": {
      "text/plain": [
       "['ACTUARIAL SCIENCE',\n",
       " 'OPERATIONS LOGISTICS AND E-COMMERCE',\n",
       " 'BUSINESS ECONOMICS',\n",
       " 'MISCELLANEOUS BUSINESS & MEDICAL ADMINISTRATION',\n",
       " 'MANAGEMENT INFORMATION SYSTEMS AND STATISTICS']"
      ]
     },
     "execution_count": 31,
     "metadata": {},
     "output_type": "execute_result"
    }
   ],
   "source": [
    "least_popular_majors(df_biz)"
   ]
  },
  {
   "cell_type": "markdown",
   "metadata": {},
   "source": [
    "### Major Categories\n",
    "\n",
    "Write a function **category_majors(df, category)** that returns a list of the majors in that category (in any order).\n",
    "\n",
    "Example: `category_majors(df, 'Communications & Journalism')` returns \n",
    "```\n",
    "['ADVERTISING AND PUBLIC RELATIONS', 'COMMUNICATIONS', 'JOURNALISM', 'MASS MEDIA']\n",
    "```"
   ]
  },
  {
   "cell_type": "code",
   "execution_count": 32,
   "metadata": {},
   "outputs": [],
   "source": [
    "def category_majors(df, category):\n",
    "    return list(df[df.Major_category == category].index)"
   ]
  },
  {
   "cell_type": "code",
   "execution_count": 33,
   "metadata": {},
   "outputs": [
    {
     "data": {
      "text/plain": [
       "['ADVERTISING AND PUBLIC RELATIONS',\n",
       " 'COMMUNICATIONS',\n",
       " 'JOURNALISM',\n",
       " 'MASS MEDIA']"
      ]
     },
     "execution_count": 33,
     "metadata": {},
     "output_type": "execute_result"
    }
   ],
   "source": [
    "category_majors(df, 'Communications & Journalism')"
   ]
  },
  {
   "cell_type": "markdown",
   "metadata": {},
   "source": [
    "Write a function **`categories_num_majors(df)`** that returns a series listing the number of majors in each major category. (*Hint:* Use `groupby` and `.size()`.)\n",
    "\n",
    "Example: \n",
    "```\n",
    "df_arts = df[df.Major_category.str.contains('Arts')]\n",
    "categories_num_majors(df_arts)\n",
    "```\n",
    "returns\n",
    "```\n",
    "Major_category\n",
    "Arts                                    8\n",
    "Humanities & Liberal Arts              15\n",
    "Industrial Arts & Consumer Services     7\n",
    "dtype: int64\n",
    "```"
   ]
  },
  {
   "cell_type": "code",
   "execution_count": 38,
   "metadata": {},
   "outputs": [],
   "source": [
    "def categories_num_majors(df):\n",
    "    return df.groupby('Major_category').size()"
   ]
  },
  {
   "cell_type": "code",
   "execution_count": 40,
   "metadata": {
    "scrolled": true
   },
   "outputs": [
    {
     "data": {
      "text/plain": [
       "Major_category\n",
       "Arts                                    8\n",
       "Humanities & Liberal Arts              15\n",
       "Industrial Arts & Consumer Services     7\n",
       "dtype: int64"
      ]
     },
     "execution_count": 40,
     "metadata": {},
     "output_type": "execute_result"
    }
   ],
   "source": [
    "df_arts = df[df.Major_category.str.contains('Arts')]\n",
    "categories_num_majors(df_arts)"
   ]
  },
  {
   "cell_type": "markdown",
   "metadata": {},
   "source": [
    "Write a function **`most_popular_category(ncats)`** that returns a list of the `ncats` most popular major categories, ordered from most popular to least popular. If `ncats` is omitted, the default value is `5`. (*Hint:* Use `groupby` and the `Total` column.)"
   ]
  },
  {
   "cell_type": "code",
   "execution_count": 45,
   "metadata": {},
   "outputs": [],
   "source": [
    "def most_popular_category(ncats = 5):\n",
    "    '''Sum the Total's for every major in all the categories and put into a list.'''\n",
    "    lst = df.groupby('Major_category').Total.sum().sort_values(ascending = False).index.tolist()\n",
    "    return lst[:ncats]"
   ]
  },
  {
   "cell_type": "markdown",
   "metadata": {},
   "source": [
    "### Percent Employed\n",
    "\n",
    "Add a column **Pct_Employed** that equals the number `Employed` divided by the `Total` number of students in each major, multiplied by 100.\n",
    "\n",
    "Example: `df.Pct_Employed['ZOOLOGY']` returns `74.432156`."
   ]
  },
  {
   "cell_type": "code",
   "execution_count": 49,
   "metadata": {
    "scrolled": true
   },
   "outputs": [
    {
     "data": {
      "text/plain": [
       "Index(['Major_code', 'Major_category', 'Men', 'Women', 'Sample_size',\n",
       "       'Employed', 'Full_time', 'Part_time', 'Unemployed', 'Median', 'P25th',\n",
       "       'P75th', 'College_jobs', 'Non_college_jobs', 'Low_wage_jobs', 'Total',\n",
       "       'Pct_Employed'],\n",
       "      dtype='object')"
      ]
     },
     "execution_count": 49,
     "metadata": {},
     "output_type": "execute_result"
    }
   ],
   "source": [
    "df['Pct_Employed'] = (df.Employed / df.Total)*100\n",
    "df.columns"
   ]
  },
  {
   "cell_type": "code",
   "execution_count": 50,
   "metadata": {},
   "outputs": [
    {
     "data": {
      "text/html": [
       "<div>\n",
       "<style scoped>\n",
       "    .dataframe tbody tr th:only-of-type {\n",
       "        vertical-align: middle;\n",
       "    }\n",
       "\n",
       "    .dataframe tbody tr th {\n",
       "        vertical-align: top;\n",
       "    }\n",
       "\n",
       "    .dataframe thead th {\n",
       "        text-align: right;\n",
       "    }\n",
       "</style>\n",
       "<table border=\"1\" class=\"dataframe\">\n",
       "  <thead>\n",
       "    <tr style=\"text-align: right;\">\n",
       "      <th></th>\n",
       "      <th>Major_code</th>\n",
       "      <th>Major_category</th>\n",
       "      <th>Men</th>\n",
       "      <th>Women</th>\n",
       "      <th>Sample_size</th>\n",
       "      <th>Employed</th>\n",
       "      <th>Full_time</th>\n",
       "      <th>Part_time</th>\n",
       "      <th>Unemployed</th>\n",
       "      <th>Median</th>\n",
       "      <th>P25th</th>\n",
       "      <th>P75th</th>\n",
       "      <th>College_jobs</th>\n",
       "      <th>Non_college_jobs</th>\n",
       "      <th>Low_wage_jobs</th>\n",
       "      <th>Total</th>\n",
       "      <th>Pct_Employed</th>\n",
       "    </tr>\n",
       "    <tr>\n",
       "      <th>Major</th>\n",
       "      <th></th>\n",
       "      <th></th>\n",
       "      <th></th>\n",
       "      <th></th>\n",
       "      <th></th>\n",
       "      <th></th>\n",
       "      <th></th>\n",
       "      <th></th>\n",
       "      <th></th>\n",
       "      <th></th>\n",
       "      <th></th>\n",
       "      <th></th>\n",
       "      <th></th>\n",
       "      <th></th>\n",
       "      <th></th>\n",
       "      <th></th>\n",
       "      <th></th>\n",
       "    </tr>\n",
       "  </thead>\n",
       "  <tbody>\n",
       "    <tr>\n",
       "      <th>ACCOUNTING</th>\n",
       "      <td>6201</td>\n",
       "      <td>Business</td>\n",
       "      <td>94519.0</td>\n",
       "      <td>104114.0</td>\n",
       "      <td>2042</td>\n",
       "      <td>165527</td>\n",
       "      <td>151967</td>\n",
       "      <td>27693</td>\n",
       "      <td>12411</td>\n",
       "      <td>45000</td>\n",
       "      <td>34000</td>\n",
       "      <td>56000</td>\n",
       "      <td>11417</td>\n",
       "      <td>39323</td>\n",
       "      <td>10886</td>\n",
       "      <td>198633.0</td>\n",
       "      <td>83.333082</td>\n",
       "    </tr>\n",
       "    <tr>\n",
       "      <th>ACTUARIAL SCIENCE</th>\n",
       "      <td>6202</td>\n",
       "      <td>Business</td>\n",
       "      <td>2110.0</td>\n",
       "      <td>1667.0</td>\n",
       "      <td>51</td>\n",
       "      <td>2912</td>\n",
       "      <td>2924</td>\n",
       "      <td>296</td>\n",
       "      <td>308</td>\n",
       "      <td>62000</td>\n",
       "      <td>53000</td>\n",
       "      <td>72000</td>\n",
       "      <td>1768</td>\n",
       "      <td>314</td>\n",
       "      <td>259</td>\n",
       "      <td>3777.0</td>\n",
       "      <td>77.098226</td>\n",
       "    </tr>\n",
       "    <tr>\n",
       "      <th>ADVERTISING AND PUBLIC RELATIONS</th>\n",
       "      <td>1904</td>\n",
       "      <td>Communications &amp; Journalism</td>\n",
       "      <td>12862.0</td>\n",
       "      <td>40300.0</td>\n",
       "      <td>681</td>\n",
       "      <td>45326</td>\n",
       "      <td>38815</td>\n",
       "      <td>10948</td>\n",
       "      <td>3305</td>\n",
       "      <td>35000</td>\n",
       "      <td>27000</td>\n",
       "      <td>47000</td>\n",
       "      <td>9659</td>\n",
       "      <td>23059</td>\n",
       "      <td>7214</td>\n",
       "      <td>53162.0</td>\n",
       "      <td>85.260148</td>\n",
       "    </tr>\n",
       "    <tr>\n",
       "      <th>AEROSPACE ENGINEERING</th>\n",
       "      <td>2401</td>\n",
       "      <td>Engineering</td>\n",
       "      <td>12953.0</td>\n",
       "      <td>2105.0</td>\n",
       "      <td>147</td>\n",
       "      <td>11391</td>\n",
       "      <td>11106</td>\n",
       "      <td>2724</td>\n",
       "      <td>794</td>\n",
       "      <td>60000</td>\n",
       "      <td>42000</td>\n",
       "      <td>70000</td>\n",
       "      <td>8184</td>\n",
       "      <td>2425</td>\n",
       "      <td>372</td>\n",
       "      <td>15058.0</td>\n",
       "      <td>75.647496</td>\n",
       "    </tr>\n",
       "    <tr>\n",
       "      <th>AGRICULTURAL ECONOMICS</th>\n",
       "      <td>1102</td>\n",
       "      <td>Agriculture &amp; Natural Resources</td>\n",
       "      <td>1749.0</td>\n",
       "      <td>690.0</td>\n",
       "      <td>44</td>\n",
       "      <td>2174</td>\n",
       "      <td>1819</td>\n",
       "      <td>620</td>\n",
       "      <td>182</td>\n",
       "      <td>40000</td>\n",
       "      <td>27000</td>\n",
       "      <td>54000</td>\n",
       "      <td>535</td>\n",
       "      <td>893</td>\n",
       "      <td>94</td>\n",
       "      <td>2439.0</td>\n",
       "      <td>89.134891</td>\n",
       "    </tr>\n",
       "  </tbody>\n",
       "</table>\n",
       "</div>"
      ],
      "text/plain": [
       "                                  Major_code                   Major_category  \\\n",
       "Major                                                                           \n",
       "ACCOUNTING                              6201                         Business   \n",
       "ACTUARIAL SCIENCE                       6202                         Business   \n",
       "ADVERTISING AND PUBLIC RELATIONS        1904      Communications & Journalism   \n",
       "AEROSPACE ENGINEERING                   2401                      Engineering   \n",
       "AGRICULTURAL ECONOMICS                  1102  Agriculture & Natural Resources   \n",
       "\n",
       "                                      Men     Women  Sample_size  Employed  \\\n",
       "Major                                                                        \n",
       "ACCOUNTING                        94519.0  104114.0         2042    165527   \n",
       "ACTUARIAL SCIENCE                  2110.0    1667.0           51      2912   \n",
       "ADVERTISING AND PUBLIC RELATIONS  12862.0   40300.0          681     45326   \n",
       "AEROSPACE ENGINEERING             12953.0    2105.0          147     11391   \n",
       "AGRICULTURAL ECONOMICS             1749.0     690.0           44      2174   \n",
       "\n",
       "                                  Full_time  Part_time  Unemployed  Median  \\\n",
       "Major                                                                        \n",
       "ACCOUNTING                           151967      27693       12411   45000   \n",
       "ACTUARIAL SCIENCE                      2924        296         308   62000   \n",
       "ADVERTISING AND PUBLIC RELATIONS      38815      10948        3305   35000   \n",
       "AEROSPACE ENGINEERING                 11106       2724         794   60000   \n",
       "AGRICULTURAL ECONOMICS                 1819        620         182   40000   \n",
       "\n",
       "                                  P25th  P75th  College_jobs  \\\n",
       "Major                                                          \n",
       "ACCOUNTING                        34000  56000         11417   \n",
       "ACTUARIAL SCIENCE                 53000  72000          1768   \n",
       "ADVERTISING AND PUBLIC RELATIONS  27000  47000          9659   \n",
       "AEROSPACE ENGINEERING             42000  70000          8184   \n",
       "AGRICULTURAL ECONOMICS            27000  54000           535   \n",
       "\n",
       "                                  Non_college_jobs  Low_wage_jobs     Total  \\\n",
       "Major                                                                         \n",
       "ACCOUNTING                                   39323          10886  198633.0   \n",
       "ACTUARIAL SCIENCE                              314            259    3777.0   \n",
       "ADVERTISING AND PUBLIC RELATIONS             23059           7214   53162.0   \n",
       "AEROSPACE ENGINEERING                         2425            372   15058.0   \n",
       "AGRICULTURAL ECONOMICS                         893             94    2439.0   \n",
       "\n",
       "                                  Pct_Employed  \n",
       "Major                                           \n",
       "ACCOUNTING                           83.333082  \n",
       "ACTUARIAL SCIENCE                    77.098226  \n",
       "ADVERTISING AND PUBLIC RELATIONS     85.260148  \n",
       "AEROSPACE ENGINEERING                75.647496  \n",
       "AGRICULTURAL ECONOMICS               89.134891  "
      ]
     },
     "execution_count": 50,
     "metadata": {},
     "output_type": "execute_result"
    }
   ],
   "source": [
    "df.head()"
   ]
  },
  {
   "cell_type": "code",
   "execution_count": 51,
   "metadata": {},
   "outputs": [
    {
     "data": {
      "text/plain": [
       "74.43215602330837"
      ]
     },
     "execution_count": 51,
     "metadata": {},
     "output_type": "execute_result"
    }
   ],
   "source": [
    "df.Pct_Employed['ZOOLOGY']"
   ]
  },
  {
   "cell_type": "markdown",
   "metadata": {},
   "source": [
    "Write a function **`categories_pct_employed(df)`** returns a series containing the percentage employed in each major category, averaged over the majors in each category."
   ]
  },
  {
   "cell_type": "code",
   "execution_count": 52,
   "metadata": {},
   "outputs": [],
   "source": [
    "def categories_pct_employed(df):\n",
    "    return df.groupby('Major_category').Pct_Employed.mean()"
   ]
  },
  {
   "cell_type": "code",
   "execution_count": 53,
   "metadata": {},
   "outputs": [
    {
     "data": {
      "text/plain": [
       "Major_category\n",
       "Agriculture & Natural Resources        86.060300\n",
       "Education                              85.669675\n",
       "Communications & Journalism            84.453398\n",
       "Business                               82.963829\n",
       "Arts                                   81.567050\n",
       "Computers & Mathematics                79.961741\n",
       "Interdisciplinary                      79.871503\n",
       "Psychology & Social Work               79.563303\n",
       "Engineering                            78.731148\n",
       "Physical Sciences                      77.607965\n",
       "Law & Public Policy                    77.030438\n",
       "Social Science                         77.029635\n",
       "Humanities & Liberal Arts              76.798344\n",
       "Health                                 75.807770\n",
       "Industrial Arts & Consumer Services    71.544202\n",
       "Biology & Life Science                 70.054260\n",
       "Name: Pct_Employed, dtype: float64"
      ]
     },
     "execution_count": 53,
     "metadata": {},
     "output_type": "execute_result"
    }
   ],
   "source": [
    "categories_pct_employed(df).sort_values(ascending = False)"
   ]
  },
  {
   "cell_type": "code",
   "execution_count": 54,
   "metadata": {},
   "outputs": [
    {
     "data": {
      "text/plain": [
       "Index(['Agriculture & Natural Resources', 'Education',\n",
       "       'Communications & Journalism', 'Business', 'Arts',\n",
       "       'Computers & Mathematics', 'Interdisciplinary',\n",
       "       'Psychology & Social Work', 'Engineering', 'Physical Sciences',\n",
       "       'Law & Public Policy', 'Social Science', 'Humanities & Liberal Arts',\n",
       "       'Health', 'Industrial Arts & Consumer Services',\n",
       "       'Biology & Life Science'],\n",
       "      dtype='object', name='Major_category')"
      ]
     },
     "execution_count": 54,
     "metadata": {},
     "output_type": "execute_result"
    }
   ],
   "source": [
    "categories_pct_employed(df).sort_values(ascending = False).index"
   ]
  },
  {
   "cell_type": "markdown",
   "metadata": {},
   "source": [
    "Write code to **identify the categories with the largest and smallest `Pct_Employed`**."
   ]
  },
  {
   "cell_type": "code",
   "execution_count": 57,
   "metadata": {},
   "outputs": [
    {
     "data": {
      "text/plain": [
       "'Agriculture & Natural Resources'"
      ]
     },
     "execution_count": 57,
     "metadata": {},
     "output_type": "execute_result"
    }
   ],
   "source": [
    "category_max_pct_employed = categories_pct_employed(df).sort_values(ascending = False).index[0]\n",
    "category_max_pct_employed"
   ]
  },
  {
   "cell_type": "code",
   "execution_count": 58,
   "metadata": {},
   "outputs": [
    {
     "data": {
      "text/plain": [
       "'Biology & Life Science'"
      ]
     },
     "execution_count": 58,
     "metadata": {},
     "output_type": "execute_result"
    }
   ],
   "source": [
    "category_min_pct_employed = categories_pct_employed(df).sort_values(ascending = False).index[-1]\n",
    "category_min_pct_employed"
   ]
  },
  {
   "cell_type": "markdown",
   "metadata": {},
   "source": [
    "Write code to **identify the majors with the largest and smallest `Pct_Employed`**."
   ]
  },
  {
   "cell_type": "code",
   "execution_count": 59,
   "metadata": {},
   "outputs": [
    {
     "data": {
      "text/plain": [
       "'INDUSTRIAL PRODUCTION TECHNOLOGIES'"
      ]
     },
     "execution_count": 59,
     "metadata": {},
     "output_type": "execute_result"
    }
   ],
   "source": [
    "major_max_pct_employed = df.sort_values('Pct_Employed', ascending = False).index[0]\n",
    "major_max_pct_employed"
   ]
  },
  {
   "cell_type": "code",
   "execution_count": 60,
   "metadata": {},
   "outputs": [
    {
     "data": {
      "text/plain": [
       "'FOOD SCIENCE'"
      ]
     },
     "execution_count": 60,
     "metadata": {},
     "output_type": "execute_result"
    }
   ],
   "source": [
    "major_min_pct_employed = df.sort_values('Pct_Employed', ascending = False).index[-1]\n",
    "major_min_pct_employed"
   ]
  },
  {
   "cell_type": "markdown",
   "metadata": {},
   "source": [
    "### Median Salaries\n",
    "\n",
    "Write code to **identify the categories with the largest and smallest `Median` salary**."
   ]
  },
  {
   "cell_type": "code",
   "execution_count": 62,
   "metadata": {
    "scrolled": true
   },
   "outputs": [
    {
     "data": {
      "text/html": [
       "<div>\n",
       "<style scoped>\n",
       "    .dataframe tbody tr th:only-of-type {\n",
       "        vertical-align: middle;\n",
       "    }\n",
       "\n",
       "    .dataframe tbody tr th {\n",
       "        vertical-align: top;\n",
       "    }\n",
       "\n",
       "    .dataframe thead th {\n",
       "        text-align: right;\n",
       "    }\n",
       "</style>\n",
       "<table border=\"1\" class=\"dataframe\">\n",
       "  <thead>\n",
       "    <tr style=\"text-align: right;\">\n",
       "      <th></th>\n",
       "      <th>Major_code</th>\n",
       "      <th>Major_category</th>\n",
       "      <th>Men</th>\n",
       "      <th>Women</th>\n",
       "      <th>Sample_size</th>\n",
       "      <th>Employed</th>\n",
       "      <th>Full_time</th>\n",
       "      <th>Part_time</th>\n",
       "      <th>Unemployed</th>\n",
       "      <th>Median</th>\n",
       "      <th>P25th</th>\n",
       "      <th>P75th</th>\n",
       "      <th>College_jobs</th>\n",
       "      <th>Non_college_jobs</th>\n",
       "      <th>Low_wage_jobs</th>\n",
       "      <th>Total</th>\n",
       "      <th>Pct_Employed</th>\n",
       "    </tr>\n",
       "    <tr>\n",
       "      <th>Major</th>\n",
       "      <th></th>\n",
       "      <th></th>\n",
       "      <th></th>\n",
       "      <th></th>\n",
       "      <th></th>\n",
       "      <th></th>\n",
       "      <th></th>\n",
       "      <th></th>\n",
       "      <th></th>\n",
       "      <th></th>\n",
       "      <th></th>\n",
       "      <th></th>\n",
       "      <th></th>\n",
       "      <th></th>\n",
       "      <th></th>\n",
       "      <th></th>\n",
       "      <th></th>\n",
       "    </tr>\n",
       "  </thead>\n",
       "  <tbody>\n",
       "    <tr>\n",
       "      <th>ACCOUNTING</th>\n",
       "      <td>6201</td>\n",
       "      <td>Business</td>\n",
       "      <td>94519.0</td>\n",
       "      <td>104114.0</td>\n",
       "      <td>2042</td>\n",
       "      <td>165527</td>\n",
       "      <td>151967</td>\n",
       "      <td>27693</td>\n",
       "      <td>12411</td>\n",
       "      <td>45000</td>\n",
       "      <td>34000</td>\n",
       "      <td>56000</td>\n",
       "      <td>11417</td>\n",
       "      <td>39323</td>\n",
       "      <td>10886</td>\n",
       "      <td>198633.0</td>\n",
       "      <td>83.333082</td>\n",
       "    </tr>\n",
       "    <tr>\n",
       "      <th>ACTUARIAL SCIENCE</th>\n",
       "      <td>6202</td>\n",
       "      <td>Business</td>\n",
       "      <td>2110.0</td>\n",
       "      <td>1667.0</td>\n",
       "      <td>51</td>\n",
       "      <td>2912</td>\n",
       "      <td>2924</td>\n",
       "      <td>296</td>\n",
       "      <td>308</td>\n",
       "      <td>62000</td>\n",
       "      <td>53000</td>\n",
       "      <td>72000</td>\n",
       "      <td>1768</td>\n",
       "      <td>314</td>\n",
       "      <td>259</td>\n",
       "      <td>3777.0</td>\n",
       "      <td>77.098226</td>\n",
       "    </tr>\n",
       "    <tr>\n",
       "      <th>ADVERTISING AND PUBLIC RELATIONS</th>\n",
       "      <td>1904</td>\n",
       "      <td>Communications &amp; Journalism</td>\n",
       "      <td>12862.0</td>\n",
       "      <td>40300.0</td>\n",
       "      <td>681</td>\n",
       "      <td>45326</td>\n",
       "      <td>38815</td>\n",
       "      <td>10948</td>\n",
       "      <td>3305</td>\n",
       "      <td>35000</td>\n",
       "      <td>27000</td>\n",
       "      <td>47000</td>\n",
       "      <td>9659</td>\n",
       "      <td>23059</td>\n",
       "      <td>7214</td>\n",
       "      <td>53162.0</td>\n",
       "      <td>85.260148</td>\n",
       "    </tr>\n",
       "    <tr>\n",
       "      <th>AEROSPACE ENGINEERING</th>\n",
       "      <td>2401</td>\n",
       "      <td>Engineering</td>\n",
       "      <td>12953.0</td>\n",
       "      <td>2105.0</td>\n",
       "      <td>147</td>\n",
       "      <td>11391</td>\n",
       "      <td>11106</td>\n",
       "      <td>2724</td>\n",
       "      <td>794</td>\n",
       "      <td>60000</td>\n",
       "      <td>42000</td>\n",
       "      <td>70000</td>\n",
       "      <td>8184</td>\n",
       "      <td>2425</td>\n",
       "      <td>372</td>\n",
       "      <td>15058.0</td>\n",
       "      <td>75.647496</td>\n",
       "    </tr>\n",
       "    <tr>\n",
       "      <th>AGRICULTURAL ECONOMICS</th>\n",
       "      <td>1102</td>\n",
       "      <td>Agriculture &amp; Natural Resources</td>\n",
       "      <td>1749.0</td>\n",
       "      <td>690.0</td>\n",
       "      <td>44</td>\n",
       "      <td>2174</td>\n",
       "      <td>1819</td>\n",
       "      <td>620</td>\n",
       "      <td>182</td>\n",
       "      <td>40000</td>\n",
       "      <td>27000</td>\n",
       "      <td>54000</td>\n",
       "      <td>535</td>\n",
       "      <td>893</td>\n",
       "      <td>94</td>\n",
       "      <td>2439.0</td>\n",
       "      <td>89.134891</td>\n",
       "    </tr>\n",
       "  </tbody>\n",
       "</table>\n",
       "</div>"
      ],
      "text/plain": [
       "                                  Major_code                   Major_category  \\\n",
       "Major                                                                           \n",
       "ACCOUNTING                              6201                         Business   \n",
       "ACTUARIAL SCIENCE                       6202                         Business   \n",
       "ADVERTISING AND PUBLIC RELATIONS        1904      Communications & Journalism   \n",
       "AEROSPACE ENGINEERING                   2401                      Engineering   \n",
       "AGRICULTURAL ECONOMICS                  1102  Agriculture & Natural Resources   \n",
       "\n",
       "                                      Men     Women  Sample_size  Employed  \\\n",
       "Major                                                                        \n",
       "ACCOUNTING                        94519.0  104114.0         2042    165527   \n",
       "ACTUARIAL SCIENCE                  2110.0    1667.0           51      2912   \n",
       "ADVERTISING AND PUBLIC RELATIONS  12862.0   40300.0          681     45326   \n",
       "AEROSPACE ENGINEERING             12953.0    2105.0          147     11391   \n",
       "AGRICULTURAL ECONOMICS             1749.0     690.0           44      2174   \n",
       "\n",
       "                                  Full_time  Part_time  Unemployed  Median  \\\n",
       "Major                                                                        \n",
       "ACCOUNTING                           151967      27693       12411   45000   \n",
       "ACTUARIAL SCIENCE                      2924        296         308   62000   \n",
       "ADVERTISING AND PUBLIC RELATIONS      38815      10948        3305   35000   \n",
       "AEROSPACE ENGINEERING                 11106       2724         794   60000   \n",
       "AGRICULTURAL ECONOMICS                 1819        620         182   40000   \n",
       "\n",
       "                                  P25th  P75th  College_jobs  \\\n",
       "Major                                                          \n",
       "ACCOUNTING                        34000  56000         11417   \n",
       "ACTUARIAL SCIENCE                 53000  72000          1768   \n",
       "ADVERTISING AND PUBLIC RELATIONS  27000  47000          9659   \n",
       "AEROSPACE ENGINEERING             42000  70000          8184   \n",
       "AGRICULTURAL ECONOMICS            27000  54000           535   \n",
       "\n",
       "                                  Non_college_jobs  Low_wage_jobs     Total  \\\n",
       "Major                                                                         \n",
       "ACCOUNTING                                   39323          10886  198633.0   \n",
       "ACTUARIAL SCIENCE                              314            259    3777.0   \n",
       "ADVERTISING AND PUBLIC RELATIONS             23059           7214   53162.0   \n",
       "AEROSPACE ENGINEERING                         2425            372   15058.0   \n",
       "AGRICULTURAL ECONOMICS                         893             94    2439.0   \n",
       "\n",
       "                                  Pct_Employed  \n",
       "Major                                           \n",
       "ACCOUNTING                           83.333082  \n",
       "ACTUARIAL SCIENCE                    77.098226  \n",
       "ADVERTISING AND PUBLIC RELATIONS     85.260148  \n",
       "AEROSPACE ENGINEERING                75.647496  \n",
       "AGRICULTURAL ECONOMICS               89.134891  "
      ]
     },
     "execution_count": 62,
     "metadata": {},
     "output_type": "execute_result"
    }
   ],
   "source": [
    "df.head()"
   ]
  },
  {
   "cell_type": "code",
   "execution_count": 70,
   "metadata": {},
   "outputs": [
    {
     "data": {
      "text/plain": [
       "'Engineering'"
      ]
     },
     "execution_count": 70,
     "metadata": {},
     "output_type": "execute_result"
    }
   ],
   "source": [
    "category_max_salary = df.groupby('Major_category').Median.median().idxmax()\n",
    "category_max_salary"
   ]
  },
  {
   "cell_type": "code",
   "execution_count": 71,
   "metadata": {},
   "outputs": [
    {
     "data": {
      "text/plain": [
       "'Psychology & Social Work'"
      ]
     },
     "execution_count": 71,
     "metadata": {},
     "output_type": "execute_result"
    }
   ],
   "source": [
    "category_min_salary = df.groupby('Major_category').Median.median().idxmin()\n",
    "category_min_salary"
   ]
  },
  {
   "cell_type": "markdown",
   "metadata": {},
   "source": [
    "Write code to **identify the majors with the largest and smallest `Median` salary**."
   ]
  },
  {
   "cell_type": "code",
   "execution_count": 78,
   "metadata": {},
   "outputs": [
    {
     "data": {
      "text/plain": [
       "'PETROLEUM ENGINEERING'"
      ]
     },
     "execution_count": 78,
     "metadata": {},
     "output_type": "execute_result"
    }
   ],
   "source": [
    "major_max_salary = df.sort_values(by='Median', ascending = False).index[0]\n",
    "major_max_salary"
   ]
  },
  {
   "cell_type": "code",
   "execution_count": 79,
   "metadata": {},
   "outputs": [
    {
     "data": {
      "text/plain": [
       "'LIBRARY SCIENCE'"
      ]
     },
     "execution_count": 79,
     "metadata": {},
     "output_type": "execute_result"
    }
   ],
   "source": [
    "major_min_salary = df.sort_values(by='Median').index[0]\n",
    "major_min_salary"
   ]
  },
  {
   "cell_type": "markdown",
   "metadata": {},
   "source": [
    "### Missing Values"
   ]
  },
  {
   "cell_type": "markdown",
   "metadata": {},
   "source": [
    "Write code to **identify the major that contains `NaN`** in the `Total` column."
   ]
  },
  {
   "cell_type": "code",
   "execution_count": 92,
   "metadata": {},
   "outputs": [
    {
     "data": {
      "text/plain": [
       "['FOOD SCIENCE']"
      ]
     },
     "execution_count": 92,
     "metadata": {},
     "output_type": "execute_result"
    }
   ],
   "source": [
    "major_missing_val = df.Total[df.Total.isna()].index.tolist()\n",
    "major_missing_val"
   ]
  },
  {
   "cell_type": "markdown",
   "metadata": {},
   "source": [
    "Use `.dropna()` with the parameter `inplace=True` to **remove all rows with missing values**. You might want to check the number of rows in the dataframe before and after dropping."
   ]
  },
  {
   "cell_type": "code",
   "execution_count": 96,
   "metadata": {},
   "outputs": [
    {
     "data": {
      "text/plain": [
       "(173, 17)"
      ]
     },
     "execution_count": 96,
     "metadata": {},
     "output_type": "execute_result"
    }
   ],
   "source": [
    "df.shape"
   ]
  },
  {
   "cell_type": "code",
   "execution_count": 100,
   "metadata": {},
   "outputs": [
    {
     "data": {
      "text/plain": [
       "(172, 17)"
      ]
     },
     "execution_count": 100,
     "metadata": {},
     "output_type": "execute_result"
    }
   ],
   "source": [
    "df.dropna(inplace=True)\n",
    "df.shape"
   ]
  },
  {
   "cell_type": "markdown",
   "metadata": {},
   "source": [
    "Write code to identify the two majors that have a **`Total` between 30000 and 31000**."
   ]
  },
  {
   "cell_type": "code",
   "execution_count": 102,
   "metadata": {},
   "outputs": [
    {
     "data": {
      "text/plain": [
       "['LANGUAGE AND DRAMA EDUCATION', 'THEOLOGY AND RELIGIOUS VOCATIONS']"
      ]
     },
     "execution_count": 102,
     "metadata": {},
     "output_type": "execute_result"
    }
   ],
   "source": [
    "majors_total_30000 = df[(df.Total>30000) & (df.Total<31000)].index.tolist()\n",
    "majors_total_30000"
   ]
  },
  {
   "cell_type": "markdown",
   "metadata": {},
   "source": [
    "### Plotting\n",
    "**Make a bar chart** showing `Total` in descending order. (*Hint:* `plt.xticks([])` will omit the labels on the horizontal axis.)"
   ]
  },
  {
   "cell_type": "code",
   "execution_count": 110,
   "metadata": {},
   "outputs": [
    {
     "name": "stderr",
     "output_type": "stream",
     "text": [
      "/var/folders/jq/4cc3gpy51172vckzpzkh9cd80000gn/T/ipykernel_68677/2305478350.py:3: MatplotlibDeprecationWarning: Support for passing numbers through unit converters is deprecated since 3.5 and support will be removed two minor releases later; use Axis.convert_units instead.\n",
      "  ax.set_xticks([])\n"
     ]
    },
    {
     "data": {
      "image/png": "[encoded data removed]",
      "text/plain": [
       "<Figure size 432x288 with 1 Axes>"
      ]
     },
     "metadata": {
      "needs_background": "light"
     },
     "output_type": "display_data"
    }
   ],
   "source": [
    "fig, ax = plt.subplots()\n",
    "ax.plot(df.sort_values(by='Total', ascending = False).Total)\n",
    "ax.set_xticks([])\n",
    "plt.show()"
   ]
  },
  {
   "cell_type": "markdown",
   "metadata": {},
   "source": [
    "**Make another bar chart** showing the 10 most popular majors in descending order.\n",
    "\n",
    "<img src=\"http://www.coloradomath.org/python/majors-popular-10.jpg\" width=\"395\" height=\"510\" />"
   ]
  },
  {
   "cell_type": "code",
   "execution_count": 122,
   "metadata": {
    "scrolled": false
   },
   "outputs": [
    {
     "data": {
      "image/png": "[encoded data removed]",
      "text/plain": [
       "<Figure size 432x288 with 1 Axes>"
      ]
     },
     "metadata": {
      "needs_background": "light"
     },
     "output_type": "display_data"
    }
   ],
   "source": [
    "df.sort_values(by='Total', ascending=False).head(10).Total.plot(kind = 'bar')\n",
    "plt.title('10 Most Popular Majors')\n",
    "plt.show()"
   ]
  },
  {
   "cell_type": "markdown",
   "metadata": {},
   "source": [
    "**Make a scatter plot** with `Pct_Employed` along the horizontal axis and `Median` along the vertical axis.\n",
    "\n",
    "<img src=\"http://www.coloradomath.org/python/majors-scatter.jpg\" width=\"432\" height=\"288\" />"
   ]
  },
  {
   "cell_type": "code",
   "execution_count": 121,
   "metadata": {},
   "outputs": [
    {
     "data": {
      "image/png": "[encoded data removed]",
      "text/plain": [
       "<Figure size 432x288 with 1 Axes>"
      ]
     },
     "metadata": {
      "needs_background": "light"
     },
     "output_type": "display_data"
    }
   ],
   "source": [
    "df.plot(x = 'Pct_Employed', y = 'Median', kind = 'scatter')\n",
    "plt.title(\"Percent Employed vs Median\")\n",
    "plt.show()"
   ]
  },
  {
   "cell_type": "markdown",
   "metadata": {},
   "source": [
    "### Outliers\n",
    "\n",
    "There are two outliers in the `Pct_Employed` vs `Median` scatter plot: one on the left side of the plot and one in the upper right. Write code to **identify the majors corresponding to the two outliers.**"
   ]
  },
  {
   "cell_type": "code",
   "execution_count": 125,
   "metadata": {},
   "outputs": [
    {
     "data": {
      "text/plain": [
       "'MILITARY TECHNOLOGIES'"
      ]
     },
     "execution_count": 125,
     "metadata": {},
     "output_type": "execute_result"
    }
   ],
   "source": [
    "outlier_left_major = df[df.Pct_Employed < 20].index[0]\n",
    "outlier_left_major"
   ]
  },
  {
   "cell_type": "code",
   "execution_count": 127,
   "metadata": {},
   "outputs": [
    {
     "data": {
      "text/plain": [
       "'PETROLEUM ENGINEERING'"
      ]
     },
     "execution_count": 127,
     "metadata": {},
     "output_type": "execute_result"
    }
   ],
   "source": [
    "outlier_right_major = df[df.Median > 100000].index[0]\n",
    "outlier_right_major"
   ]
  },
  {
   "cell_type": "markdown",
   "metadata": {},
   "source": [
    "The outliers are visible in corresponding box plots. **Create the box plots.**\n",
    "\n",
    "<img src=\"http://www.coloradomath.org/python/box-pct-employed.jpg\" width=\"432\" height=\"288\" />\n",
    "\n",
    "<img src=\"http://www.coloradomath.org/python/box-median.jpg\" width=\"432\" height=\"288\" />"
   ]
  },
  {
   "cell_type": "code",
   "execution_count": 131,
   "metadata": {},
   "outputs": [
    {
     "data": {
      "image/png": "[encoded data removed]",
      "text/plain": [
       "<Figure size 432x288 with 1 Axes>"
      ]
     },
     "metadata": {
      "needs_background": "light"
     },
     "output_type": "display_data"
    }
   ],
   "source": [
    "df.Pct_Employed.plot(kind = 'box')\n",
    "plt.show()"
   ]
  },
  {
   "cell_type": "code",
   "execution_count": 132,
   "metadata": {},
   "outputs": [
    {
     "data": {
      "image/png": "[encoded data removed]",
      "text/plain": [
       "<Figure size 432x288 with 1 Axes>"
      ]
     },
     "metadata": {
      "needs_background": "light"
     },
     "output_type": "display_data"
    }
   ],
   "source": [
    "df.Median.plot(kind = 'box')\n",
    "plt.show()"
   ]
  }
 ],
 "metadata": {
  "kernelspec": {
   "display_name": "Python 3 (ipykernel)",
   "language": "python",
   "name": "python3"
  },
  "language_info": {
   "codemirror_mode": {
    "name": "ipython",
    "version": 3
   },
   "file_extension": ".py",
   "mimetype": "text/x-python",
   "name": "python",
   "nbconvert_exporter": "python",
   "pygments_lexer": "ipython3",
   "version": "3.9.12"
  }
 },
 "nbformat": 4,
 "nbformat_minor": 4
}
